{
  "nbformat": 4,
  "nbformat_minor": 0,
  "metadata": {
    "colab": {
      "name": "Apache Spark and Prophet (Multiple Time Series).ipynb",
      "provenance": [],
      "authorship_tag": "ABX9TyNnriTmW5dZQbQbw4lGtSVi",
      "include_colab_link": true
    },
    "kernelspec": {
      "name": "python3",
      "display_name": "Python 3"
    }
  },
  "cells": [
    {
      "cell_type": "markdown",
      "metadata": {
        "id": "view-in-github",
        "colab_type": "text"
      },
      "source": [
        "<a href=\"https://colab.research.google.com/github/SSR-ds/Time-Series-with-Python/blob/main/Apache_Spark_and_Prophet_(Multiple_Time_Series).ipynb\" target=\"_parent\"><img src=\"https://colab.research.google.com/assets/colab-badge.svg\" alt=\"Open In Colab\"/></a>"
      ]
    },
    {
      "cell_type": "code",
      "metadata": {
        "colab": {
          "base_uri": "https://localhost:8080/"
        },
        "id": "mY3chYRs-Xut",
        "outputId": "71d86dee-01de-4bf5-b1ea-8c4684fccf1d"
      },
      "source": [
        "!apt-get install -y openjdk-8-jdk-headless -qq > /dev/null \n",
        "import os\n",
        "os.environ[\"JAVA_HOME\"] = \"/usr/lib/jvm/java-8-openjdk-amd64\"  \n",
        "!update-alternatives --set java /usr/lib/jvm/java-8-openjdk-amd64/jre/bin/java"
      ],
      "execution_count": 1,
      "outputs": [
        {
          "output_type": "stream",
          "text": [
            "update-alternatives: using /usr/lib/jvm/java-8-openjdk-amd64/jre/bin/java to provide /usr/bin/java (java) in manual mode\n"
          ],
          "name": "stdout"
        }
      ]
    },
    {
      "cell_type": "code",
      "metadata": {
        "colab": {
          "base_uri": "https://localhost:8080/"
        },
        "id": "KKt7gL_s-C-M",
        "outputId": "ff0ce704-a0b4-4a9e-8e47-275852a620f7"
      },
      "source": [
        "!java -version"
      ],
      "execution_count": 2,
      "outputs": [
        {
          "output_type": "stream",
          "text": [
            "openjdk version \"1.8.0_275\"\n",
            "OpenJDK Runtime Environment (build 1.8.0_275-8u275-b01-0ubuntu1~18.04-b01)\n",
            "OpenJDK 64-Bit Server VM (build 25.275-b01, mixed mode)\n"
          ],
          "name": "stdout"
        }
      ]
    },
    {
      "cell_type": "code",
      "metadata": {
        "colab": {
          "base_uri": "https://localhost:8080/"
        },
        "id": "VEmzBa2X-tgk",
        "outputId": "605e76a6-bd20-474e-acfe-f28187ec1495"
      },
      "source": [
        "!pip install pyspark"
      ],
      "execution_count": 3,
      "outputs": [
        {
          "output_type": "stream",
          "text": [
            "Collecting pyspark\n",
            "\u001b[?25l  Downloading https://files.pythonhosted.org/packages/f0/26/198fc8c0b98580f617cb03cb298c6056587b8f0447e20fa40c5b634ced77/pyspark-3.0.1.tar.gz (204.2MB)\n",
            "\u001b[K     |████████████████████████████████| 204.2MB 64kB/s \n",
            "\u001b[?25hCollecting py4j==0.10.9\n",
            "\u001b[?25l  Downloading https://files.pythonhosted.org/packages/9e/b6/6a4fb90cd235dc8e265a6a2067f2a2c99f0d91787f06aca4bcf7c23f3f80/py4j-0.10.9-py2.py3-none-any.whl (198kB)\n",
            "\u001b[K     |████████████████████████████████| 204kB 43.9MB/s \n",
            "\u001b[?25hBuilding wheels for collected packages: pyspark\n",
            "  Building wheel for pyspark (setup.py) ... \u001b[?25l\u001b[?25hdone\n",
            "  Created wheel for pyspark: filename=pyspark-3.0.1-py2.py3-none-any.whl size=204612243 sha256=11d0e182ef28d0e0e72fe284ef48eefb0bca8bd685f7e0251b82e05604026e47\n",
            "  Stored in directory: /root/.cache/pip/wheels/5e/bd/07/031766ca628adec8435bb40f0bd83bb676ce65ff4007f8e73f\n",
            "Successfully built pyspark\n",
            "Installing collected packages: py4j, pyspark\n",
            "Successfully installed py4j-0.10.9 pyspark-3.0.1\n"
          ],
          "name": "stdout"
        }
      ]
    },
    {
      "cell_type": "code",
      "metadata": {
        "colab": {
          "base_uri": "https://localhost:8080/"
        },
        "id": "Os0kvl_F-xXT",
        "outputId": "2e1e4eca-4e21-4577-b1f7-f3fdc5aa712c"
      },
      "source": [
        "!pip install pyarrow==0.15.1"
      ],
      "execution_count": 4,
      "outputs": [
        {
          "output_type": "stream",
          "text": [
            "Collecting pyarrow==0.15.1\n",
            "\u001b[?25l  Downloading https://files.pythonhosted.org/packages/6c/32/ce1926f05679ea5448fd3b98fbd9419d8c7a65f87d1a12ee5fb9577e3a8e/pyarrow-0.15.1-cp36-cp36m-manylinux2010_x86_64.whl (59.2MB)\n",
            "\u001b[K     |████████████████████████████████| 59.2MB 88kB/s \n",
            "\u001b[?25hRequirement already satisfied: six>=1.0.0 in /usr/local/lib/python3.6/dist-packages (from pyarrow==0.15.1) (1.15.0)\n",
            "Requirement already satisfied: numpy>=1.14 in /usr/local/lib/python3.6/dist-packages (from pyarrow==0.15.1) (1.18.5)\n",
            "Installing collected packages: pyarrow\n",
            "  Found existing installation: pyarrow 0.14.1\n",
            "    Uninstalling pyarrow-0.14.1:\n",
            "      Successfully uninstalled pyarrow-0.14.1\n",
            "Successfully installed pyarrow-0.15.1\n"
          ],
          "name": "stdout"
        }
      ]
    },
    {
      "cell_type": "code",
      "metadata": {
        "colab": {
          "base_uri": "https://localhost:8080/"
        },
        "id": "2YO96fzhAAX_",
        "outputId": "e16d2bfd-0e2d-4234-cd0c-4878adaff4d6"
      },
      "source": [
        "!pip install fbprophet"
      ],
      "execution_count": 5,
      "outputs": [
        {
          "output_type": "stream",
          "text": [
            "Requirement already satisfied: fbprophet in /usr/local/lib/python3.6/dist-packages (0.7.1)\n",
            "Requirement already satisfied: Cython>=0.22 in /usr/local/lib/python3.6/dist-packages (from fbprophet) (0.29.21)\n",
            "Requirement already satisfied: cmdstanpy==0.9.5 in /usr/local/lib/python3.6/dist-packages (from fbprophet) (0.9.5)\n",
            "Requirement already satisfied: pystan>=2.14 in /usr/local/lib/python3.6/dist-packages (from fbprophet) (2.19.1.1)\n",
            "Requirement already satisfied: numpy>=1.15.4 in /usr/local/lib/python3.6/dist-packages (from fbprophet) (1.18.5)\n",
            "Requirement already satisfied: pandas>=1.0.4 in /usr/local/lib/python3.6/dist-packages (from fbprophet) (1.1.4)\n",
            "Requirement already satisfied: matplotlib>=2.0.0 in /usr/local/lib/python3.6/dist-packages (from fbprophet) (3.2.2)\n",
            "Requirement already satisfied: LunarCalendar>=0.0.9 in /usr/local/lib/python3.6/dist-packages (from fbprophet) (0.0.9)\n",
            "Requirement already satisfied: convertdate>=2.1.2 in /usr/local/lib/python3.6/dist-packages (from fbprophet) (2.3.0)\n",
            "Requirement already satisfied: holidays>=0.10.2 in /usr/local/lib/python3.6/dist-packages (from fbprophet) (0.10.3)\n",
            "Requirement already satisfied: setuptools-git>=1.2 in /usr/local/lib/python3.6/dist-packages (from fbprophet) (1.2)\n",
            "Requirement already satisfied: python-dateutil>=2.8.0 in /usr/local/lib/python3.6/dist-packages (from fbprophet) (2.8.1)\n",
            "Requirement already satisfied: tqdm>=4.36.1 in /usr/local/lib/python3.6/dist-packages (from fbprophet) (4.41.1)\n",
            "Requirement already satisfied: pytz>=2017.2 in /usr/local/lib/python3.6/dist-packages (from pandas>=1.0.4->fbprophet) (2018.9)\n",
            "Requirement already satisfied: pyparsing!=2.0.4,!=2.1.2,!=2.1.6,>=2.0.1 in /usr/local/lib/python3.6/dist-packages (from matplotlib>=2.0.0->fbprophet) (2.4.7)\n",
            "Requirement already satisfied: kiwisolver>=1.0.1 in /usr/local/lib/python3.6/dist-packages (from matplotlib>=2.0.0->fbprophet) (1.3.1)\n",
            "Requirement already satisfied: cycler>=0.10 in /usr/local/lib/python3.6/dist-packages (from matplotlib>=2.0.0->fbprophet) (0.10.0)\n",
            "Requirement already satisfied: ephem>=3.7.5.3 in /usr/local/lib/python3.6/dist-packages (from LunarCalendar>=0.0.9->fbprophet) (3.7.7.1)\n",
            "Requirement already satisfied: pymeeus<=1,>=0.3.6 in /usr/local/lib/python3.6/dist-packages (from convertdate>=2.1.2->fbprophet) (0.3.7)\n",
            "Requirement already satisfied: korean-lunar-calendar in /usr/local/lib/python3.6/dist-packages (from holidays>=0.10.2->fbprophet) (0.2.1)\n",
            "Requirement already satisfied: six in /usr/local/lib/python3.6/dist-packages (from holidays>=0.10.2->fbprophet) (1.15.0)\n"
          ],
          "name": "stdout"
        }
      ]
    },
    {
      "cell_type": "code",
      "metadata": {
        "id": "IlD5_FC4AETO"
      },
      "source": [
        "import pandas as pd\n",
        "import numpy as np\n",
        "\n",
        "import matplotlib.pyplot as plt\n",
        "import matplotlib as mpl\n",
        "import plotly.express as px\n",
        "%matplotlib inline\n",
        "\n",
        "from fbprophet import Prophet"
      ],
      "execution_count": 6,
      "outputs": []
    },
    {
      "cell_type": "code",
      "metadata": {
        "id": "t8jxVO7SCva4"
      },
      "source": [
        "from pyspark.sql import SparkSession\n",
        "import pyspark\n",
        "spark = SparkSession.builder.master('local').getOrCreate()"
      ],
      "execution_count": 7,
      "outputs": []
    },
    {
      "cell_type": "code",
      "metadata": {
        "colab": {
          "resources": {
            "http://localhost:8080/nbextensions/google.colab/files.js": {
              "data": "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",
              "ok": true,
              "headers": [
                [
                  "content-type",
                  "application/javascript"
                ]
              ],
              "status": 200,
              "status_text": ""
            }
          },
          "base_uri": "https://localhost:8080/",
          "height": 72
        },
        "id": "qjNpWZIfEKay",
        "outputId": "7a49e519-76cc-4369-a9c8-398aae1b30db"
      },
      "source": [
        "from google.colab import files\n",
        "uploaded = files.upload()"
      ],
      "execution_count": 8,
      "outputs": [
        {
          "output_type": "display_data",
          "data": {
            "text/html": [
              "\n",
              "     <input type=\"file\" id=\"files-75fbff45-d844-4e93-9a69-74638efadf6d\" name=\"files[]\" multiple disabled\n",
              "        style=\"border:none\" />\n",
              "     <output id=\"result-75fbff45-d844-4e93-9a69-74638efadf6d\">\n",
              "      Upload widget is only available when the cell has been executed in the\n",
              "      current browser session. Please rerun this cell to enable.\n",
              "      </output>\n",
              "      <script src=\"/nbextensions/google.colab/files.js\"></script> "
            ],
            "text/plain": [
              "<IPython.core.display.HTML object>"
            ]
          },
          "metadata": {
            "tags": []
          }
        },
        {
          "output_type": "stream",
          "text": [
            "Saving weekly_sales_data.csv to weekly_sales_data.csv\n"
          ],
          "name": "stdout"
        }
      ]
    },
    {
      "cell_type": "code",
      "metadata": {
        "id": "L5xEjzUaDd_5"
      },
      "source": [
        "df1 = pd.read_csv('weekly_sales_data.csv')"
      ],
      "execution_count": 9,
      "outputs": []
    },
    {
      "cell_type": "code",
      "metadata": {
        "colab": {
          "base_uri": "https://localhost:8080/",
          "height": 419
        },
        "id": "phUWD175EdVk",
        "outputId": "82c1f451-ebfe-4f87-f730-71e7e700f948"
      },
      "source": [
        "df1"
      ],
      "execution_count": 10,
      "outputs": [
        {
          "output_type": "execute_result",
          "data": {
            "text/html": [
              "<div>\n",
              "<style scoped>\n",
              "    .dataframe tbody tr th:only-of-type {\n",
              "        vertical-align: middle;\n",
              "    }\n",
              "\n",
              "    .dataframe tbody tr th {\n",
              "        vertical-align: top;\n",
              "    }\n",
              "\n",
              "    .dataframe thead th {\n",
              "        text-align: right;\n",
              "    }\n",
              "</style>\n",
              "<table border=\"1\" class=\"dataframe\">\n",
              "  <thead>\n",
              "    <tr style=\"text-align: right;\">\n",
              "      <th></th>\n",
              "      <th>date</th>\n",
              "      <th>store_id</th>\n",
              "      <th>sales</th>\n",
              "    </tr>\n",
              "  </thead>\n",
              "  <tbody>\n",
              "    <tr>\n",
              "      <th>0</th>\n",
              "      <td>1/6/2019</td>\n",
              "      <td>25</td>\n",
              "      <td>736657.2267</td>\n",
              "    </tr>\n",
              "    <tr>\n",
              "      <th>1</th>\n",
              "      <td>1/6/2019</td>\n",
              "      <td>26</td>\n",
              "      <td>233711.0000</td>\n",
              "    </tr>\n",
              "    <tr>\n",
              "      <th>2</th>\n",
              "      <td>1/6/2019</td>\n",
              "      <td>28</td>\n",
              "      <td>692156.3794</td>\n",
              "    </tr>\n",
              "    <tr>\n",
              "      <th>3</th>\n",
              "      <td>1/6/2019</td>\n",
              "      <td>29</td>\n",
              "      <td>213706.8000</td>\n",
              "    </tr>\n",
              "    <tr>\n",
              "      <th>4</th>\n",
              "      <td>1/6/2019</td>\n",
              "      <td>30</td>\n",
              "      <td>266455.0000</td>\n",
              "    </tr>\n",
              "    <tr>\n",
              "      <th>...</th>\n",
              "      <td>...</td>\n",
              "      <td>...</td>\n",
              "      <td>...</td>\n",
              "    </tr>\n",
              "    <tr>\n",
              "      <th>495</th>\n",
              "      <td>12/15/2019</td>\n",
              "      <td>31</td>\n",
              "      <td>401803.3590</td>\n",
              "    </tr>\n",
              "    <tr>\n",
              "      <th>496</th>\n",
              "      <td>12/15/2019</td>\n",
              "      <td>35</td>\n",
              "      <td>135799.1429</td>\n",
              "    </tr>\n",
              "    <tr>\n",
              "      <th>497</th>\n",
              "      <td>12/15/2019</td>\n",
              "      <td>38</td>\n",
              "      <td>115424.2250</td>\n",
              "    </tr>\n",
              "    <tr>\n",
              "      <th>498</th>\n",
              "      <td>12/15/2019</td>\n",
              "      <td>41</td>\n",
              "      <td>103375.0000</td>\n",
              "    </tr>\n",
              "    <tr>\n",
              "      <th>499</th>\n",
              "      <td>12/15/2019</td>\n",
              "      <td>44</td>\n",
              "      <td>51210.0000</td>\n",
              "    </tr>\n",
              "  </tbody>\n",
              "</table>\n",
              "<p>500 rows × 3 columns</p>\n",
              "</div>"
            ],
            "text/plain": [
              "           date  store_id        sales\n",
              "0      1/6/2019        25  736657.2267\n",
              "1      1/6/2019        26  233711.0000\n",
              "2      1/6/2019        28  692156.3794\n",
              "3      1/6/2019        29  213706.8000\n",
              "4      1/6/2019        30  266455.0000\n",
              "..          ...       ...          ...\n",
              "495  12/15/2019        31  401803.3590\n",
              "496  12/15/2019        35  135799.1429\n",
              "497  12/15/2019        38  115424.2250\n",
              "498  12/15/2019        41  103375.0000\n",
              "499  12/15/2019        44   51210.0000\n",
              "\n",
              "[500 rows x 3 columns]"
            ]
          },
          "metadata": {
            "tags": []
          },
          "execution_count": 10
        }
      ]
    },
    {
      "cell_type": "code",
      "metadata": {
        "id": "1bwQKrZ6IDA4"
      },
      "source": [
        "df1['date'] = pd.to_datetime(df1['date'])"
      ],
      "execution_count": 11,
      "outputs": []
    },
    {
      "cell_type": "code",
      "metadata": {
        "colab": {
          "base_uri": "https://localhost:8080/",
          "height": 419
        },
        "id": "4jy4DE8_IJgk",
        "outputId": "ef6cd952-0665-4151-ab2f-958e328fbc70"
      },
      "source": [
        "df1"
      ],
      "execution_count": 12,
      "outputs": [
        {
          "output_type": "execute_result",
          "data": {
            "text/html": [
              "<div>\n",
              "<style scoped>\n",
              "    .dataframe tbody tr th:only-of-type {\n",
              "        vertical-align: middle;\n",
              "    }\n",
              "\n",
              "    .dataframe tbody tr th {\n",
              "        vertical-align: top;\n",
              "    }\n",
              "\n",
              "    .dataframe thead th {\n",
              "        text-align: right;\n",
              "    }\n",
              "</style>\n",
              "<table border=\"1\" class=\"dataframe\">\n",
              "  <thead>\n",
              "    <tr style=\"text-align: right;\">\n",
              "      <th></th>\n",
              "      <th>date</th>\n",
              "      <th>store_id</th>\n",
              "      <th>sales</th>\n",
              "    </tr>\n",
              "  </thead>\n",
              "  <tbody>\n",
              "    <tr>\n",
              "      <th>0</th>\n",
              "      <td>2019-01-06</td>\n",
              "      <td>25</td>\n",
              "      <td>736657.2267</td>\n",
              "    </tr>\n",
              "    <tr>\n",
              "      <th>1</th>\n",
              "      <td>2019-01-06</td>\n",
              "      <td>26</td>\n",
              "      <td>233711.0000</td>\n",
              "    </tr>\n",
              "    <tr>\n",
              "      <th>2</th>\n",
              "      <td>2019-01-06</td>\n",
              "      <td>28</td>\n",
              "      <td>692156.3794</td>\n",
              "    </tr>\n",
              "    <tr>\n",
              "      <th>3</th>\n",
              "      <td>2019-01-06</td>\n",
              "      <td>29</td>\n",
              "      <td>213706.8000</td>\n",
              "    </tr>\n",
              "    <tr>\n",
              "      <th>4</th>\n",
              "      <td>2019-01-06</td>\n",
              "      <td>30</td>\n",
              "      <td>266455.0000</td>\n",
              "    </tr>\n",
              "    <tr>\n",
              "      <th>...</th>\n",
              "      <td>...</td>\n",
              "      <td>...</td>\n",
              "      <td>...</td>\n",
              "    </tr>\n",
              "    <tr>\n",
              "      <th>495</th>\n",
              "      <td>2019-12-15</td>\n",
              "      <td>31</td>\n",
              "      <td>401803.3590</td>\n",
              "    </tr>\n",
              "    <tr>\n",
              "      <th>496</th>\n",
              "      <td>2019-12-15</td>\n",
              "      <td>35</td>\n",
              "      <td>135799.1429</td>\n",
              "    </tr>\n",
              "    <tr>\n",
              "      <th>497</th>\n",
              "      <td>2019-12-15</td>\n",
              "      <td>38</td>\n",
              "      <td>115424.2250</td>\n",
              "    </tr>\n",
              "    <tr>\n",
              "      <th>498</th>\n",
              "      <td>2019-12-15</td>\n",
              "      <td>41</td>\n",
              "      <td>103375.0000</td>\n",
              "    </tr>\n",
              "    <tr>\n",
              "      <th>499</th>\n",
              "      <td>2019-12-15</td>\n",
              "      <td>44</td>\n",
              "      <td>51210.0000</td>\n",
              "    </tr>\n",
              "  </tbody>\n",
              "</table>\n",
              "<p>500 rows × 3 columns</p>\n",
              "</div>"
            ],
            "text/plain": [
              "          date  store_id        sales\n",
              "0   2019-01-06        25  736657.2267\n",
              "1   2019-01-06        26  233711.0000\n",
              "2   2019-01-06        28  692156.3794\n",
              "3   2019-01-06        29  213706.8000\n",
              "4   2019-01-06        30  266455.0000\n",
              "..         ...       ...          ...\n",
              "495 2019-12-15        31  401803.3590\n",
              "496 2019-12-15        35  135799.1429\n",
              "497 2019-12-15        38  115424.2250\n",
              "498 2019-12-15        41  103375.0000\n",
              "499 2019-12-15        44   51210.0000\n",
              "\n",
              "[500 rows x 3 columns]"
            ]
          },
          "metadata": {
            "tags": []
          },
          "execution_count": 12
        }
      ]
    },
    {
      "cell_type": "code",
      "metadata": {
        "colab": {
          "base_uri": "https://localhost:8080/"
        },
        "id": "Ef8kE_zZIgD4",
        "outputId": "a4f32d72-5447-4b19-abb4-625b050fee38"
      },
      "source": [
        "df1.dtypes"
      ],
      "execution_count": 13,
      "outputs": [
        {
          "output_type": "execute_result",
          "data": {
            "text/plain": [
              "date        datetime64[ns]\n",
              "store_id             int64\n",
              "sales              float64\n",
              "dtype: object"
            ]
          },
          "metadata": {
            "tags": []
          },
          "execution_count": 13
        }
      ]
    },
    {
      "cell_type": "code",
      "metadata": {
        "colab": {
          "base_uri": "https://localhost:8080/"
        },
        "id": "qs8f1PyxItTT",
        "outputId": "ca4282a7-ca56-4b55-870f-fa5a9d053de8"
      },
      "source": [
        "df1.isnull().sum()"
      ],
      "execution_count": 14,
      "outputs": [
        {
          "output_type": "execute_result",
          "data": {
            "text/plain": [
              "date        0\n",
              "store_id    0\n",
              "sales       0\n",
              "dtype: int64"
            ]
          },
          "metadata": {
            "tags": []
          },
          "execution_count": 14
        }
      ]
    },
    {
      "cell_type": "code",
      "metadata": {
        "colab": {
          "base_uri": "https://localhost:8080/"
        },
        "id": "LE29EpqdI0YA",
        "outputId": "763bab42-7c1e-4541-be28-43de7129b28e"
      },
      "source": [
        "df1.nunique()"
      ],
      "execution_count": 15,
      "outputs": [
        {
          "output_type": "execute_result",
          "data": {
            "text/plain": [
              "date         50\n",
              "store_id     10\n",
              "sales       500\n",
              "dtype: int64"
            ]
          },
          "metadata": {
            "tags": []
          },
          "execution_count": 15
        }
      ]
    },
    {
      "cell_type": "code",
      "metadata": {
        "colab": {
          "base_uri": "https://localhost:8080/",
          "height": 297
        },
        "id": "s97sqfbII3Rz",
        "outputId": "2223204b-9127-4ceb-8d28-ee86d1f99d29"
      },
      "source": [
        "df1.describe()"
      ],
      "execution_count": 16,
      "outputs": [
        {
          "output_type": "execute_result",
          "data": {
            "text/html": [
              "<div>\n",
              "<style scoped>\n",
              "    .dataframe tbody tr th:only-of-type {\n",
              "        vertical-align: middle;\n",
              "    }\n",
              "\n",
              "    .dataframe tbody tr th {\n",
              "        vertical-align: top;\n",
              "    }\n",
              "\n",
              "    .dataframe thead th {\n",
              "        text-align: right;\n",
              "    }\n",
              "</style>\n",
              "<table border=\"1\" class=\"dataframe\">\n",
              "  <thead>\n",
              "    <tr style=\"text-align: right;\">\n",
              "      <th></th>\n",
              "      <th>store_id</th>\n",
              "      <th>sales</th>\n",
              "    </tr>\n",
              "  </thead>\n",
              "  <tbody>\n",
              "    <tr>\n",
              "      <th>count</th>\n",
              "      <td>500.0000</td>\n",
              "      <td>5.000000e+02</td>\n",
              "    </tr>\n",
              "    <tr>\n",
              "      <th>mean</th>\n",
              "      <td>32.7000</td>\n",
              "      <td>4.470800e+05</td>\n",
              "    </tr>\n",
              "    <tr>\n",
              "      <th>std</th>\n",
              "      <td>6.1714</td>\n",
              "      <td>2.970660e+05</td>\n",
              "    </tr>\n",
              "    <tr>\n",
              "      <th>min</th>\n",
              "      <td>25.0000</td>\n",
              "      <td>1.278800e+04</td>\n",
              "    </tr>\n",
              "    <tr>\n",
              "      <th>25%</th>\n",
              "      <td>28.0000</td>\n",
              "      <td>2.526557e+05</td>\n",
              "    </tr>\n",
              "    <tr>\n",
              "      <th>50%</th>\n",
              "      <td>30.5000</td>\n",
              "      <td>3.150259e+05</td>\n",
              "    </tr>\n",
              "    <tr>\n",
              "      <th>75%</th>\n",
              "      <td>38.0000</td>\n",
              "      <td>6.845418e+05</td>\n",
              "    </tr>\n",
              "    <tr>\n",
              "      <th>max</th>\n",
              "      <td>44.0000</td>\n",
              "      <td>1.631585e+06</td>\n",
              "    </tr>\n",
              "  </tbody>\n",
              "</table>\n",
              "</div>"
            ],
            "text/plain": [
              "       store_id         sales\n",
              "count  500.0000  5.000000e+02\n",
              "mean    32.7000  4.470800e+05\n",
              "std      6.1714  2.970660e+05\n",
              "min     25.0000  1.278800e+04\n",
              "25%     28.0000  2.526557e+05\n",
              "50%     30.5000  3.150259e+05\n",
              "75%     38.0000  6.845418e+05\n",
              "max     44.0000  1.631585e+06"
            ]
          },
          "metadata": {
            "tags": []
          },
          "execution_count": 16
        }
      ]
    },
    {
      "cell_type": "code",
      "metadata": {
        "colab": {
          "base_uri": "https://localhost:8080/"
        },
        "id": "-HSWtR6zJWdx",
        "outputId": "50002078-19be-41f3-c124-e8d2761b8eff"
      },
      "source": [
        "df1['store_id'].value_counts()"
      ],
      "execution_count": 17,
      "outputs": [
        {
          "output_type": "execute_result",
          "data": {
            "text/plain": [
              "44    50\n",
              "41    50\n",
              "38    50\n",
              "35    50\n",
              "31    50\n",
              "30    50\n",
              "29    50\n",
              "28    50\n",
              "26    50\n",
              "25    50\n",
              "Name: store_id, dtype: int64"
            ]
          },
          "metadata": {
            "tags": []
          },
          "execution_count": 17
        }
      ]
    },
    {
      "cell_type": "code",
      "metadata": {
        "id": "Qb4_EYG3JijQ"
      },
      "source": [
        "df2 = df1.set_index('date')"
      ],
      "execution_count": 18,
      "outputs": []
    },
    {
      "cell_type": "code",
      "metadata": {
        "colab": {
          "base_uri": "https://localhost:8080/",
          "height": 450
        },
        "id": "rtJenagMJ_TR",
        "outputId": "a35ff477-8b01-40fa-951e-50283be22144"
      },
      "source": [
        "df2"
      ],
      "execution_count": 19,
      "outputs": [
        {
          "output_type": "execute_result",
          "data": {
            "text/html": [
              "<div>\n",
              "<style scoped>\n",
              "    .dataframe tbody tr th:only-of-type {\n",
              "        vertical-align: middle;\n",
              "    }\n",
              "\n",
              "    .dataframe tbody tr th {\n",
              "        vertical-align: top;\n",
              "    }\n",
              "\n",
              "    .dataframe thead th {\n",
              "        text-align: right;\n",
              "    }\n",
              "</style>\n",
              "<table border=\"1\" class=\"dataframe\">\n",
              "  <thead>\n",
              "    <tr style=\"text-align: right;\">\n",
              "      <th></th>\n",
              "      <th>store_id</th>\n",
              "      <th>sales</th>\n",
              "    </tr>\n",
              "    <tr>\n",
              "      <th>date</th>\n",
              "      <th></th>\n",
              "      <th></th>\n",
              "    </tr>\n",
              "  </thead>\n",
              "  <tbody>\n",
              "    <tr>\n",
              "      <th>2019-01-06</th>\n",
              "      <td>25</td>\n",
              "      <td>736657.2267</td>\n",
              "    </tr>\n",
              "    <tr>\n",
              "      <th>2019-01-06</th>\n",
              "      <td>26</td>\n",
              "      <td>233711.0000</td>\n",
              "    </tr>\n",
              "    <tr>\n",
              "      <th>2019-01-06</th>\n",
              "      <td>28</td>\n",
              "      <td>692156.3794</td>\n",
              "    </tr>\n",
              "    <tr>\n",
              "      <th>2019-01-06</th>\n",
              "      <td>29</td>\n",
              "      <td>213706.8000</td>\n",
              "    </tr>\n",
              "    <tr>\n",
              "      <th>2019-01-06</th>\n",
              "      <td>30</td>\n",
              "      <td>266455.0000</td>\n",
              "    </tr>\n",
              "    <tr>\n",
              "      <th>...</th>\n",
              "      <td>...</td>\n",
              "      <td>...</td>\n",
              "    </tr>\n",
              "    <tr>\n",
              "      <th>2019-12-15</th>\n",
              "      <td>31</td>\n",
              "      <td>401803.3590</td>\n",
              "    </tr>\n",
              "    <tr>\n",
              "      <th>2019-12-15</th>\n",
              "      <td>35</td>\n",
              "      <td>135799.1429</td>\n",
              "    </tr>\n",
              "    <tr>\n",
              "      <th>2019-12-15</th>\n",
              "      <td>38</td>\n",
              "      <td>115424.2250</td>\n",
              "    </tr>\n",
              "    <tr>\n",
              "      <th>2019-12-15</th>\n",
              "      <td>41</td>\n",
              "      <td>103375.0000</td>\n",
              "    </tr>\n",
              "    <tr>\n",
              "      <th>2019-12-15</th>\n",
              "      <td>44</td>\n",
              "      <td>51210.0000</td>\n",
              "    </tr>\n",
              "  </tbody>\n",
              "</table>\n",
              "<p>500 rows × 2 columns</p>\n",
              "</div>"
            ],
            "text/plain": [
              "            store_id        sales\n",
              "date                             \n",
              "2019-01-06        25  736657.2267\n",
              "2019-01-06        26  233711.0000\n",
              "2019-01-06        28  692156.3794\n",
              "2019-01-06        29  213706.8000\n",
              "2019-01-06        30  266455.0000\n",
              "...              ...          ...\n",
              "2019-12-15        31  401803.3590\n",
              "2019-12-15        35  135799.1429\n",
              "2019-12-15        38  115424.2250\n",
              "2019-12-15        41  103375.0000\n",
              "2019-12-15        44   51210.0000\n",
              "\n",
              "[500 rows x 2 columns]"
            ]
          },
          "metadata": {
            "tags": []
          },
          "execution_count": 19
        }
      ]
    },
    {
      "cell_type": "code",
      "metadata": {
        "colab": {
          "base_uri": "https://localhost:8080/",
          "height": 302
        },
        "id": "plv58S5LKMg8",
        "outputId": "17a31853-d053-4082-a73f-f5cd194185d3"
      },
      "source": [
        "df2.query(\"store_id==25\")[['sales']].plot();"
      ],
      "execution_count": 20,
      "outputs": [
        {
          "output_type": "display_data",
          "data": {
            "image/png": "[encoded data removed]",
            "text/plain": [
              "<Figure size 432x288 with 1 Axes>"
            ]
          },
          "metadata": {
            "tags": [],
            "needs_background": "light"
          }
        }
      ]
    },
    {
      "cell_type": "code",
      "metadata": {
        "colab": {
          "base_uri": "https://localhost:8080/",
          "height": 291
        },
        "id": "zAEOP9-qKkGX",
        "outputId": "11f8e324-2485-4a1b-ce90-d87ec92f1bc5"
      },
      "source": [
        "df2.query(\"store_id==30\")[['sales']].plot();"
      ],
      "execution_count": 21,
      "outputs": [
        {
          "output_type": "display_data",
          "data": {
            "image/png": "[encoded data removed]",
            "text/plain": [
              "<Figure size 432x288 with 1 Axes>"
            ]
          },
          "metadata": {
            "tags": [],
            "needs_background": "light"
          }
        }
      ]
    },
    {
      "cell_type": "code",
      "metadata": {
        "colab": {
          "base_uri": "https://localhost:8080/",
          "height": 291
        },
        "id": "zegDMqGJKmp8",
        "outputId": "dfce3535-c8b1-4a1f-aac3-9e4604c632da"
      },
      "source": [
        "df2.query(\"store_id==35\")[['sales']].plot();"
      ],
      "execution_count": 22,
      "outputs": [
        {
          "output_type": "display_data",
          "data": {
            "image/png": "[encoded data removed]",
            "text/plain": [
              "<Figure size 432x288 with 1 Axes>"
            ]
          },
          "metadata": {
            "tags": [],
            "needs_background": "light"
          }
        }
      ]
    },
    {
      "cell_type": "code",
      "metadata": {
        "colab": {
          "base_uri": "https://localhost:8080/",
          "height": 291
        },
        "id": "3w7AWFdlKobu",
        "outputId": "003ab2bd-a472-48ac-a3b0-91aafb3ea13c"
      },
      "source": [
        "df2.query(\"store_id==44\")[['sales']].plot();"
      ],
      "execution_count": 23,
      "outputs": [
        {
          "output_type": "display_data",
          "data": {
            "image/png": "[encoded data removed]",
            "text/plain": [
              "<Figure size 432x288 with 1 Axes>"
            ]
          },
          "metadata": {
            "tags": [],
            "needs_background": "light"
          }
        }
      ]
    },
    {
      "cell_type": "code",
      "metadata": {
        "id": "aDdCSzQkKt4x"
      },
      "source": [
        "spark_df = spark.createDataFrame(df1)"
      ],
      "execution_count": 24,
      "outputs": []
    },
    {
      "cell_type": "code",
      "metadata": {
        "colab": {
          "base_uri": "https://localhost:8080/"
        },
        "id": "C8JNIB1yLTLD",
        "outputId": "f15c0896-4658-458e-c727-00d6dc2c70a5"
      },
      "source": [
        "#head\n",
        "spark_df.show(5)"
      ],
      "execution_count": 25,
      "outputs": [
        {
          "output_type": "stream",
          "text": [
            "+-------------------+--------+-----------+\n",
            "|               date|store_id|      sales|\n",
            "+-------------------+--------+-----------+\n",
            "|2019-01-06 00:00:00|      25|736657.2267|\n",
            "|2019-01-06 00:00:00|      26|   233711.0|\n",
            "|2019-01-06 00:00:00|      28|692156.3794|\n",
            "|2019-01-06 00:00:00|      29|   213706.8|\n",
            "|2019-01-06 00:00:00|      30|   266455.0|\n",
            "+-------------------+--------+-----------+\n",
            "only showing top 5 rows\n",
            "\n"
          ],
          "name": "stdout"
        }
      ]
    },
    {
      "cell_type": "code",
      "metadata": {
        "colab": {
          "base_uri": "https://localhost:8080/"
        },
        "id": "6w4Lvf23MvXg",
        "outputId": "ccf8ca0f-bda0-430b-9a7d-1ee304c2e38e"
      },
      "source": [
        "#info\n",
        "spark_df.printSchema()"
      ],
      "execution_count": 26,
      "outputs": [
        {
          "output_type": "stream",
          "text": [
            "root\n",
            " |-- date: timestamp (nullable = true)\n",
            " |-- store_id: long (nullable = true)\n",
            " |-- sales: double (nullable = true)\n",
            "\n"
          ],
          "name": "stdout"
        }
      ]
    },
    {
      "cell_type": "code",
      "metadata": {
        "colab": {
          "base_uri": "https://localhost:8080/"
        },
        "id": "ieY3vdXTM0TT",
        "outputId": "eb234b86-6761-4f53-e31f-9381e87153b5"
      },
      "source": [
        "#count\n",
        "spark_df.count()"
      ],
      "execution_count": 27,
      "outputs": [
        {
          "output_type": "execute_result",
          "data": {
            "text/plain": [
              "500"
            ]
          },
          "metadata": {
            "tags": []
          },
          "execution_count": 27
        }
      ]
    },
    {
      "cell_type": "code",
      "metadata": {
        "colab": {
          "base_uri": "https://localhost:8080/"
        },
        "id": "ewXMSl4sM5g7",
        "outputId": "6c85c50f-5147-4e78-f657-849be72b2570"
      },
      "source": [
        "#spark is lazy evluation framework that requires attributes like show to perfom its function\n",
        "spark_df.select(['store_id']).groupBy('store_id').agg({'store_id':'count'}).show()"
      ],
      "execution_count": 28,
      "outputs": [
        {
          "output_type": "stream",
          "text": [
            "+--------+---------------+\n",
            "|store_id|count(store_id)|\n",
            "+--------+---------------+\n",
            "|      26|             50|\n",
            "|      29|             50|\n",
            "|      31|             50|\n",
            "|      25|             50|\n",
            "|      41|             50|\n",
            "|      28|             50|\n",
            "|      44|             50|\n",
            "|      35|             50|\n",
            "|      38|             50|\n",
            "|      30|             50|\n",
            "+--------+---------------+\n",
            "\n"
          ],
          "name": "stdout"
        }
      ]
    },
    {
      "cell_type": "code",
      "metadata": {
        "id": "vgB_ih0lNtz7"
      },
      "source": [
        "#pushing it into a Temp view to run SQL Queries and so on\n",
        "spark_df.createOrReplaceTempView('sales')"
      ],
      "execution_count": 29,
      "outputs": []
    },
    {
      "cell_type": "code",
      "metadata": {
        "colab": {
          "base_uri": "https://localhost:8080/"
        },
        "id": "A5-SWGvsN7LY",
        "outputId": "0de72263-6752-401b-e595-021931811d89"
      },
      "source": [
        "spark.sql(\"select store_id, count(*) from sales group by store_id\").show()"
      ],
      "execution_count": 30,
      "outputs": [
        {
          "output_type": "stream",
          "text": [
            "+--------+--------+\n",
            "|store_id|count(1)|\n",
            "+--------+--------+\n",
            "|      26|      50|\n",
            "|      29|      50|\n",
            "|      31|      50|\n",
            "|      25|      50|\n",
            "|      41|      50|\n",
            "|      28|      50|\n",
            "|      44|      50|\n",
            "|      35|      50|\n",
            "|      38|      50|\n",
            "|      30|      50|\n",
            "+--------+--------+\n",
            "\n"
          ],
          "name": "stdout"
        }
      ]
    },
    {
      "cell_type": "code",
      "metadata": {
        "id": "YA5sYGnUOqEP"
      },
      "source": [
        "sql_format = 'SELECT store_id, date as ds, sum(sales) as y FROM sales group by store_id, ds order by store_id, ds'"
      ],
      "execution_count": 31,
      "outputs": []
    },
    {
      "cell_type": "code",
      "metadata": {
        "colab": {
          "base_uri": "https://localhost:8080/"
        },
        "id": "tGYJIlrLQrFv",
        "outputId": "e5b733fe-cea1-44c9-932f-a7eedb16fde0"
      },
      "source": [
        "spark.sql(sql_format).show()"
      ],
      "execution_count": 32,
      "outputs": [
        {
          "output_type": "stream",
          "text": [
            "+--------+-------------------+------------------+\n",
            "|store_id|                 ds|                 y|\n",
            "+--------+-------------------+------------------+\n",
            "|      25|2019-01-06 00:00:00|       736657.2267|\n",
            "|      25|2019-01-13 00:00:00|       696457.1717|\n",
            "|      25|2019-01-20 00:00:00|        996876.875|\n",
            "|      25|2019-01-27 00:00:00|        1029737.05|\n",
            "|      25|2019-02-03 00:00:00|       1072873.705|\n",
            "|      25|2019-02-10 00:00:00|       880462.4681|\n",
            "|      25|2019-02-17 00:00:00|        1088756.78|\n",
            "|      25|2019-02-24 00:00:00|       1266928.313|\n",
            "|      25|2019-03-03 00:00:00|       907510.1217|\n",
            "|      25|2019-03-10 00:00:00|       747920.9824|\n",
            "|      25|2019-03-17 00:00:00|       904750.3158|\n",
            "|      25|2019-03-24 00:00:00|1069857.5890000002|\n",
            "|      25|2019-03-31 00:00:00|       1195574.314|\n",
            "|      25|2019-04-07 00:00:00|       834911.3333|\n",
            "|      25|2019-04-14 00:00:00|       788777.4167|\n",
            "|      25|2019-04-21 00:00:00|       849603.4333|\n",
            "|      25|2019-04-28 00:00:00|        965521.165|\n",
            "|      25|2019-05-05 00:00:00|       1045632.688|\n",
            "|      25|2019-05-12 00:00:00|        587768.245|\n",
            "|      25|2019-05-19 00:00:00|       806767.5946|\n",
            "+--------+-------------------+------------------+\n",
            "only showing top 20 rows\n",
            "\n"
          ],
          "name": "stdout"
        }
      ]
    },
    {
      "cell_type": "code",
      "metadata": {
        "colab": {
          "base_uri": "https://localhost:8080/"
        },
        "id": "zRYgaje4TaF4",
        "outputId": "85da8396-fec0-4717-be8c-848bc028e4a4"
      },
      "source": [
        "spark_df.explain()"
      ],
      "execution_count": 33,
      "outputs": [
        {
          "output_type": "stream",
          "text": [
            "== Physical Plan ==\n",
            "*(1) Scan ExistingRDD[date#0,store_id#1L,sales#2]\n",
            "\n",
            "\n"
          ],
          "name": "stdout"
        }
      ]
    },
    {
      "cell_type": "code",
      "metadata": {
        "colab": {
          "base_uri": "https://localhost:8080/"
        },
        "id": "aoGDfoBpT43_",
        "outputId": "88b111f7-a413-42bd-8744-1d813cc607ee"
      },
      "source": [
        "spark_df.rdd.getNumPartitions()"
      ],
      "execution_count": 34,
      "outputs": [
        {
          "output_type": "execute_result",
          "data": {
            "text/plain": [
              "1"
            ]
          },
          "metadata": {
            "tags": []
          },
          "execution_count": 34
        }
      ]
    },
    {
      "cell_type": "code",
      "metadata": {
        "id": "rtemSC6CWmOt"
      },
      "source": [
        "breaking_store_part = (spark.sql(sql_format).repartition(spark.sparkContext.defaultParallelism,['store_id'])).cache()"
      ],
      "execution_count": 35,
      "outputs": []
    },
    {
      "cell_type": "code",
      "metadata": {
        "colab": {
          "base_uri": "https://localhost:8080/"
        },
        "id": "_yBt6SbOW9D4",
        "outputId": "6b6cc0e0-e201-482d-a3b8-d13441f2a7d9"
      },
      "source": [
        "breaking_store_part"
      ],
      "execution_count": 36,
      "outputs": [
        {
          "output_type": "execute_result",
          "data": {
            "text/plain": [
              "DataFrame[store_id: bigint, ds: timestamp, y: double]"
            ]
          },
          "metadata": {
            "tags": []
          },
          "execution_count": 36
        }
      ]
    },
    {
      "cell_type": "code",
      "metadata": {
        "colab": {
          "base_uri": "https://localhost:8080/"
        },
        "id": "qQfASn-lXotP",
        "outputId": "6a7d61a7-1996-443f-f18f-b18ae9d66e5e"
      },
      "source": [
        "breaking_store_part.explain()"
      ],
      "execution_count": 37,
      "outputs": [
        {
          "output_type": "stream",
          "text": [
            "== Physical Plan ==\n",
            "InMemoryTableScan [store_id#1L, ds#82, y#83]\n",
            "   +- InMemoryRelation [store_id#1L, ds#82, y#83], StorageLevel(disk, memory, deserialized, 1 replicas)\n",
            "         +- Exchange hashpartitioning(store_id#1L, 1), false, [id=#147]\n",
            "            +- *(3) Sort [store_id#1L ASC NULLS FIRST, ds#82 ASC NULLS FIRST], true, 0\n",
            "               +- Exchange rangepartitioning(store_id#1L ASC NULLS FIRST, ds#82 ASC NULLS FIRST, 200), true, [id=#143]\n",
            "                  +- *(2) HashAggregate(keys=[store_id#1L, date#0], functions=[sum(sales#2)])\n",
            "                     +- Exchange hashpartitioning(store_id#1L, date#0, 200), true, [id=#139]\n",
            "                        +- *(1) HashAggregate(keys=[store_id#1L, date#0], functions=[partial_sum(sales#2)])\n",
            "                           +- *(1) Scan ExistingRDD[date#0,store_id#1L,sales#2]\n",
            "\n",
            "\n"
          ],
          "name": "stdout"
        }
      ]
    },
    {
      "cell_type": "code",
      "metadata": {
        "id": "X_ek4p9wXz68"
      },
      "source": [
        "from pyspark.sql.types import *\n",
        "\n",
        "result_schema =StructType([\n",
        "  StructField('ds',TimestampType()),\n",
        "  StructField('store_id',IntegerType()),\n",
        "  StructField('y',DoubleType()),\n",
        "  StructField('yhat',DoubleType()),\n",
        "  StructField('yhat_upper',DoubleType()),\n",
        "  StructField('yhat_lower',DoubleType())\n",
        "  ])"
      ],
      "execution_count": 52,
      "outputs": []
    },
    {
      "cell_type": "code",
      "metadata": {
        "id": "Pw7FsvqSekjG"
      },
      "source": [
        "from pyspark.sql.functions import pandas_udf, PandasUDFType\n",
        "\n",
        "@pandas_udf( result_schema, PandasUDFType.GROUPED_MAP )\n",
        "def forecast_sales( store_pd ):\n",
        "\n",
        "  model = Prophet(interval_width=0.95,seasonality_mode = 'multiplicative', weekly_seasonality=True, yearly_seasonality=True)\n",
        "\n",
        "  model.fit( store_pd )\n",
        "\n",
        "  future_pd = model.make_future_dataframe(\n",
        "    periods=10, \n",
        "    freq='w'\n",
        "    )\n",
        "  \n",
        "  forecast_pd = model.predict( future_pd )  \n",
        "  \n",
        "  f_pd = forecast_pd[ ['ds','yhat', 'yhat_upper', 'yhat_lower'] ].set_index('ds')\n",
        "  \n",
        "  st_pd = store_pd[['ds','store_id','y']].set_index('ds')\n",
        "  \n",
        "  results_pd = f_pd.join( st_pd, how='left' )\n",
        "  results_pd.reset_index(level=0, inplace=True)\n",
        "  \n",
        "  results_pd['store_id'] = store_pd['store_id'].iloc[0]\n",
        "\n",
        "  return results_pd[ ['ds', 'store_id','y', 'yhat', 'yhat_upper', 'yhat_lower'] ]"
      ],
      "execution_count": 69,
      "outputs": []
    },
    {
      "cell_type": "code",
      "metadata": {
        "id": "RP-roV6OhGT1"
      },
      "source": [
        "from pyspark.sql.functions import current_date"
      ],
      "execution_count": 70,
      "outputs": []
    },
    {
      "cell_type": "code",
      "metadata": {
        "colab": {
          "base_uri": "https://localhost:8080/"
        },
        "id": "UStngNVuhq75",
        "outputId": "b8075ab5-1f87-40dc-f64a-5f0cb1364f88"
      },
      "source": [
        "results = (\n",
        "    breaking_store_part\n",
        "    .groupBy('store_id')\n",
        "    .apply(forecast_sales)\n",
        "    .withColumn('training_date', current_date())\n",
        "    )"
      ],
      "execution_count": 71,
      "outputs": [
        {
          "output_type": "stream",
          "text": [
            "/usr/local/lib/python3.6/dist-packages/pyspark/sql/pandas/group_ops.py:76: UserWarning:\n",
            "\n",
            "It is preferred to use 'applyInPandas' over this API. This API will be deprecated in the future releases. See SPARK-28264 for more details.\n",
            "\n"
          ],
          "name": "stderr"
        }
      ]
    },
    {
      "cell_type": "code",
      "metadata": {
        "colab": {
          "base_uri": "https://localhost:8080/"
        },
        "id": "43cY6E-niI4T",
        "outputId": "f063ae38-e9b1-4d39-8a7f-8e8361eedfcf"
      },
      "source": [
        "results.cache()"
      ],
      "execution_count": 72,
      "outputs": [
        {
          "output_type": "execute_result",
          "data": {
            "text/plain": [
              "DataFrame[ds: timestamp, store_id: int, y: double, yhat: double, yhat_upper: double, yhat_lower: double, training_date: date]"
            ]
          },
          "metadata": {
            "tags": []
          },
          "execution_count": 72
        }
      ]
    },
    {
      "cell_type": "code",
      "metadata": {
        "colab": {
          "base_uri": "https://localhost:8080/"
        },
        "id": "7ffsx6rriM4K",
        "outputId": "511d1319-bdf7-4d99-9790-405725a73101"
      },
      "source": [
        "results.explain()"
      ],
      "execution_count": 73,
      "outputs": [
        {
          "output_type": "stream",
          "text": [
            "== Physical Plan ==\n",
            "InMemoryTableScan [ds#1873, store_id#1874, y#1875, yhat#1876, yhat_upper#1877, yhat_lower#1878, training_date#1885]\n",
            "   +- InMemoryRelation [ds#1873, store_id#1874, y#1875, yhat#1876, yhat_upper#1877, yhat_lower#1878, training_date#1885], StorageLevel(disk, memory, deserialized, 1 replicas)\n",
            "         +- *(2) Project [ds#1873, store_id#1874, y#1875, yhat#1876, yhat_upper#1877, yhat_lower#1878, 18596 AS training_date#1885]\n",
            "            +- FlatMapGroupsInPandas [store_id#1L], forecast_sales(store_id#1L, ds#82, y#83), [ds#1873, store_id#1874, y#1875, yhat#1876, yhat_upper#1877, yhat_lower#1878]\n",
            "               +- *(1) Sort [store_id#1L ASC NULLS FIRST], false, 0\n",
            "                  +- InMemoryTableScan [store_id#1L, store_id#1L, ds#82, y#83]\n",
            "                        +- InMemoryRelation [store_id#1L, ds#82, y#83], StorageLevel(disk, memory, deserialized, 1 replicas)\n",
            "                              +- Exchange hashpartitioning(store_id#1L, 1), false, [id=#147]\n",
            "                                 +- *(3) Sort [store_id#1L ASC NULLS FIRST, ds#82 ASC NULLS FIRST], true, 0\n",
            "                                    +- Exchange rangepartitioning(store_id#1L ASC NULLS FIRST, ds#82 ASC NULLS FIRST, 200), true, [id=#143]\n",
            "                                       +- *(2) HashAggregate(keys=[store_id#1L, date#0], functions=[sum(sales#2)])\n",
            "                                          +- Exchange hashpartitioning(store_id#1L, date#0, 200), true, [id=#139]\n",
            "                                             +- *(1) HashAggregate(keys=[store_id#1L, date#0], functions=[partial_sum(sales#2)])\n",
            "                                                +- *(1) Scan ExistingRDD[date#0,store_id#1L,sales#2]\n",
            "\n",
            "\n"
          ],
          "name": "stdout"
        }
      ]
    },
    {
      "cell_type": "code",
      "metadata": {
        "colab": {
          "base_uri": "https://localhost:8080/"
        },
        "id": "iPAQ4WdNkMqN",
        "outputId": "93693aa2-e95d-405a-91e6-6b7128951b53"
      },
      "source": [
        "results.show()"
      ],
      "execution_count": 74,
      "outputs": [
        {
          "output_type": "stream",
          "text": [
            "+-------------------+--------+------------------+------------------+------------------+------------------+-------------+\n",
            "|                 ds|store_id|                 y|              yhat|        yhat_upper|        yhat_lower|training_date|\n",
            "+-------------------+--------+------------------+------------------+------------------+------------------+-------------+\n",
            "|2019-01-06 00:00:00|      25|       736657.2267| 712575.0694095818| 955669.7604814962|475053.57531185116|   2020-11-30|\n",
            "|2019-01-13 00:00:00|      25|       696457.1717| 743751.7568979745| 967820.0202085612|507835.90182197077|   2020-11-30|\n",
            "|2019-01-20 00:00:00|      25|        996876.875| 972909.8778074606|1198168.0397453534| 736719.3955313421|   2020-11-30|\n",
            "|2019-01-27 00:00:00|      25|        1029737.05|1034447.5557655566|1264807.2380089804| 804014.7473959223|   2020-11-30|\n",
            "|2019-02-03 00:00:00|      25|       1072873.705| 986365.7266813249|1228303.3733029137| 753883.9728926593|   2020-11-30|\n",
            "|2019-02-10 00:00:00|      25|       880462.4681|1016291.0609378252| 1256481.799469217| 785523.8376514374|   2020-11-30|\n",
            "|2019-02-17 00:00:00|      25|        1088756.78|1108793.2648377852|1329418.5102473146| 873664.6803645944|   2020-11-30|\n",
            "|2019-02-24 00:00:00|      25|       1266928.313| 1099825.778191229| 1318216.661446724|  854425.367617369|   2020-11-30|\n",
            "|2019-03-03 00:00:00|      25|       907510.1217| 954930.7385069402|1188469.7868909794| 719986.8978461062|   2020-11-30|\n",
            "|2019-03-10 00:00:00|      25|       747920.9824| 840307.5565039386| 1079963.004124381|  605098.831871319|   2020-11-30|\n",
            "|2019-03-17 00:00:00|      25|       904750.3158| 895698.5219485628|1134562.7449160975| 680801.9707181535|   2020-11-30|\n",
            "|2019-03-24 00:00:00|      25|1069857.5890000002|1040022.5385733753| 1264618.023508399| 803188.2375672415|   2020-11-30|\n",
            "|2019-03-31 00:00:00|      25|       1195574.314|1078329.0328818252|   1310278.0688122| 837509.8209037536|   2020-11-30|\n",
            "|2019-04-07 00:00:00|      25|       834911.3333| 957531.8584538421|1198865.2908474717| 720153.5635312262|   2020-11-30|\n",
            "|2019-04-14 00:00:00|      25|       788777.4167| 825594.4716870873| 1065897.907270365| 603222.3578203144|   2020-11-30|\n",
            "|2019-04-21 00:00:00|      25|       849603.4333|  826255.107714139|1046921.7744627235|  569444.177988491|   2020-11-30|\n",
            "|2019-04-28 00:00:00|      25|        965521.165| 913980.6218906845| 1154107.082422674| 670924.4965161745|   2020-11-30|\n",
            "|2019-05-05 00:00:00|      25|       1045632.688|  931383.522344465|1158330.6162214794| 709367.4506305616|   2020-11-30|\n",
            "|2019-05-12 00:00:00|      25|        587768.245| 831326.9849957973| 1060715.908053892| 603835.0827446892|   2020-11-30|\n",
            "|2019-05-19 00:00:00|      25|       806767.5946| 740232.6751864685| 956648.9073288101| 497052.7957949745|   2020-11-30|\n",
            "+-------------------+--------+------------------+------------------+------------------+------------------+-------------+\n",
            "only showing top 20 rows\n",
            "\n"
          ],
          "name": "stdout"
        }
      ]
    },
    {
      "cell_type": "code",
      "metadata": {
        "colab": {
          "base_uri": "https://localhost:8080/"
        },
        "id": "qQA7JZeKlxSM",
        "outputId": "5a4e0db9-a781-42a7-c541-f62793ff7221"
      },
      "source": [
        "results.coalesce(1)"
      ],
      "execution_count": 75,
      "outputs": [
        {
          "output_type": "execute_result",
          "data": {
            "text/plain": [
              "DataFrame[ds: timestamp, store_id: int, y: double, yhat: double, yhat_upper: double, yhat_lower: double, training_date: date]"
            ]
          },
          "metadata": {
            "tags": []
          },
          "execution_count": 75
        }
      ]
    },
    {
      "cell_type": "code",
      "metadata": {
        "colab": {
          "base_uri": "https://localhost:8080/"
        },
        "id": "tdkk3XyDmI82",
        "outputId": "b6e823c5-7296-417b-bf8c-0bc8057c0d81"
      },
      "source": [
        "results.count()"
      ],
      "execution_count": 76,
      "outputs": [
        {
          "output_type": "execute_result",
          "data": {
            "text/plain": [
              "600"
            ]
          },
          "metadata": {
            "tags": []
          },
          "execution_count": 76
        }
      ]
    },
    {
      "cell_type": "code",
      "metadata": {
        "id": "3y6h8OHrmPY4"
      },
      "source": [
        "results.createOrReplaceTempView('forecast')"
      ],
      "execution_count": 77,
      "outputs": []
    },
    {
      "cell_type": "code",
      "metadata": {
        "colab": {
          "base_uri": "https://localhost:8080/"
        },
        "id": "Bg9AHuJomWW1",
        "outputId": "04690413-a9bd-4b9b-e905-d2bb9009710f"
      },
      "source": [
        "spark.sql(\"select store_id, count(*) from forecast group by store_id\").show()"
      ],
      "execution_count": 78,
      "outputs": [
        {
          "output_type": "stream",
          "text": [
            "+--------+--------+\n",
            "|store_id|count(1)|\n",
            "+--------+--------+\n",
            "|      31|      60|\n",
            "|      28|      60|\n",
            "|      26|      60|\n",
            "|      44|      60|\n",
            "|      41|      60|\n",
            "|      35|      60|\n",
            "|      38|      60|\n",
            "|      25|      60|\n",
            "|      29|      60|\n",
            "|      30|      60|\n",
            "+--------+--------+\n",
            "\n"
          ],
          "name": "stdout"
        }
      ]
    },
    {
      "cell_type": "code",
      "metadata": {
        "id": "AUCOlNH1mhRC"
      },
      "source": [
        "df3 = results.toPandas()"
      ],
      "execution_count": 79,
      "outputs": []
    },
    {
      "cell_type": "code",
      "metadata": {
        "colab": {
          "base_uri": "https://localhost:8080/",
          "height": 419
        },
        "id": "qI7ElFd6mohk",
        "outputId": "d7c0b077-657e-44dc-9e41-5e78b275a3e1"
      },
      "source": [
        "df3"
      ],
      "execution_count": 80,
      "outputs": [
        {
          "output_type": "execute_result",
          "data": {
            "text/html": [
              "<div>\n",
              "<style scoped>\n",
              "    .dataframe tbody tr th:only-of-type {\n",
              "        vertical-align: middle;\n",
              "    }\n",
              "\n",
              "    .dataframe tbody tr th {\n",
              "        vertical-align: top;\n",
              "    }\n",
              "\n",
              "    .dataframe thead th {\n",
              "        text-align: right;\n",
              "    }\n",
              "</style>\n",
              "<table border=\"1\" class=\"dataframe\">\n",
              "  <thead>\n",
              "    <tr style=\"text-align: right;\">\n",
              "      <th></th>\n",
              "      <th>ds</th>\n",
              "      <th>store_id</th>\n",
              "      <th>y</th>\n",
              "      <th>yhat</th>\n",
              "      <th>yhat_upper</th>\n",
              "      <th>yhat_lower</th>\n",
              "      <th>training_date</th>\n",
              "    </tr>\n",
              "  </thead>\n",
              "  <tbody>\n",
              "    <tr>\n",
              "      <th>0</th>\n",
              "      <td>2019-01-06</td>\n",
              "      <td>25</td>\n",
              "      <td>7.366572e+05</td>\n",
              "      <td>7.125751e+05</td>\n",
              "      <td>9.556698e+05</td>\n",
              "      <td>475053.575312</td>\n",
              "      <td>2020-11-30</td>\n",
              "    </tr>\n",
              "    <tr>\n",
              "      <th>1</th>\n",
              "      <td>2019-01-13</td>\n",
              "      <td>25</td>\n",
              "      <td>6.964572e+05</td>\n",
              "      <td>7.437518e+05</td>\n",
              "      <td>9.678200e+05</td>\n",
              "      <td>507835.901822</td>\n",
              "      <td>2020-11-30</td>\n",
              "    </tr>\n",
              "    <tr>\n",
              "      <th>2</th>\n",
              "      <td>2019-01-20</td>\n",
              "      <td>25</td>\n",
              "      <td>9.968769e+05</td>\n",
              "      <td>9.729099e+05</td>\n",
              "      <td>1.198168e+06</td>\n",
              "      <td>736719.395531</td>\n",
              "      <td>2020-11-30</td>\n",
              "    </tr>\n",
              "    <tr>\n",
              "      <th>3</th>\n",
              "      <td>2019-01-27</td>\n",
              "      <td>25</td>\n",
              "      <td>1.029737e+06</td>\n",
              "      <td>1.034448e+06</td>\n",
              "      <td>1.264807e+06</td>\n",
              "      <td>804014.747396</td>\n",
              "      <td>2020-11-30</td>\n",
              "    </tr>\n",
              "    <tr>\n",
              "      <th>4</th>\n",
              "      <td>2019-02-03</td>\n",
              "      <td>25</td>\n",
              "      <td>1.072874e+06</td>\n",
              "      <td>9.863657e+05</td>\n",
              "      <td>1.228303e+06</td>\n",
              "      <td>753883.972893</td>\n",
              "      <td>2020-11-30</td>\n",
              "    </tr>\n",
              "    <tr>\n",
              "      <th>...</th>\n",
              "      <td>...</td>\n",
              "      <td>...</td>\n",
              "      <td>...</td>\n",
              "      <td>...</td>\n",
              "      <td>...</td>\n",
              "      <td>...</td>\n",
              "      <td>...</td>\n",
              "    </tr>\n",
              "    <tr>\n",
              "      <th>595</th>\n",
              "      <td>2020-01-26</td>\n",
              "      <td>44</td>\n",
              "      <td>NaN</td>\n",
              "      <td>-9.504370e+02</td>\n",
              "      <td>5.692397e+04</td>\n",
              "      <td>-68688.801733</td>\n",
              "      <td>2020-11-30</td>\n",
              "    </tr>\n",
              "    <tr>\n",
              "      <th>596</th>\n",
              "      <td>2020-02-02</td>\n",
              "      <td>44</td>\n",
              "      <td>NaN</td>\n",
              "      <td>-4.299515e+03</td>\n",
              "      <td>5.314038e+04</td>\n",
              "      <td>-59781.909485</td>\n",
              "      <td>2020-11-30</td>\n",
              "    </tr>\n",
              "    <tr>\n",
              "      <th>597</th>\n",
              "      <td>2020-02-09</td>\n",
              "      <td>44</td>\n",
              "      <td>NaN</td>\n",
              "      <td>-7.459837e+03</td>\n",
              "      <td>6.121451e+04</td>\n",
              "      <td>-69991.330785</td>\n",
              "      <td>2020-11-30</td>\n",
              "    </tr>\n",
              "    <tr>\n",
              "      <th>598</th>\n",
              "      <td>2020-02-16</td>\n",
              "      <td>44</td>\n",
              "      <td>NaN</td>\n",
              "      <td>-1.289796e+04</td>\n",
              "      <td>5.247587e+04</td>\n",
              "      <td>-73264.625255</td>\n",
              "      <td>2020-11-30</td>\n",
              "    </tr>\n",
              "    <tr>\n",
              "      <th>599</th>\n",
              "      <td>2020-02-23</td>\n",
              "      <td>44</td>\n",
              "      <td>NaN</td>\n",
              "      <td>-1.993578e+04</td>\n",
              "      <td>3.989057e+04</td>\n",
              "      <td>-76633.310367</td>\n",
              "      <td>2020-11-30</td>\n",
              "    </tr>\n",
              "  </tbody>\n",
              "</table>\n",
              "<p>600 rows × 7 columns</p>\n",
              "</div>"
            ],
            "text/plain": [
              "            ds  store_id  ...     yhat_lower  training_date\n",
              "0   2019-01-06        25  ...  475053.575312     2020-11-30\n",
              "1   2019-01-13        25  ...  507835.901822     2020-11-30\n",
              "2   2019-01-20        25  ...  736719.395531     2020-11-30\n",
              "3   2019-01-27        25  ...  804014.747396     2020-11-30\n",
              "4   2019-02-03        25  ...  753883.972893     2020-11-30\n",
              "..         ...       ...  ...            ...            ...\n",
              "595 2020-01-26        44  ...  -68688.801733     2020-11-30\n",
              "596 2020-02-02        44  ...  -59781.909485     2020-11-30\n",
              "597 2020-02-09        44  ...  -69991.330785     2020-11-30\n",
              "598 2020-02-16        44  ...  -73264.625255     2020-11-30\n",
              "599 2020-02-23        44  ...  -76633.310367     2020-11-30\n",
              "\n",
              "[600 rows x 7 columns]"
            ]
          },
          "metadata": {
            "tags": []
          },
          "execution_count": 80
        }
      ]
    },
    {
      "cell_type": "code",
      "metadata": {
        "id": "Ke6NUdVpmrnX"
      },
      "source": [
        "df3 = df3.set_index('ds')"
      ],
      "execution_count": 81,
      "outputs": []
    },
    {
      "cell_type": "code",
      "metadata": {
        "colab": {
          "base_uri": "https://localhost:8080/",
          "height": 235
        },
        "id": "BE-og0pPmuIr",
        "outputId": "c182cf37-1354-40e5-dea2-dca8a49a326c"
      },
      "source": [
        "df3.head()"
      ],
      "execution_count": 82,
      "outputs": [
        {
          "output_type": "execute_result",
          "data": {
            "text/html": [
              "<div>\n",
              "<style scoped>\n",
              "    .dataframe tbody tr th:only-of-type {\n",
              "        vertical-align: middle;\n",
              "    }\n",
              "\n",
              "    .dataframe tbody tr th {\n",
              "        vertical-align: top;\n",
              "    }\n",
              "\n",
              "    .dataframe thead th {\n",
              "        text-align: right;\n",
              "    }\n",
              "</style>\n",
              "<table border=\"1\" class=\"dataframe\">\n",
              "  <thead>\n",
              "    <tr style=\"text-align: right;\">\n",
              "      <th></th>\n",
              "      <th>store_id</th>\n",
              "      <th>y</th>\n",
              "      <th>yhat</th>\n",
              "      <th>yhat_upper</th>\n",
              "      <th>yhat_lower</th>\n",
              "      <th>training_date</th>\n",
              "    </tr>\n",
              "    <tr>\n",
              "      <th>ds</th>\n",
              "      <th></th>\n",
              "      <th></th>\n",
              "      <th></th>\n",
              "      <th></th>\n",
              "      <th></th>\n",
              "      <th></th>\n",
              "    </tr>\n",
              "  </thead>\n",
              "  <tbody>\n",
              "    <tr>\n",
              "      <th>2019-01-06</th>\n",
              "      <td>25</td>\n",
              "      <td>7.366572e+05</td>\n",
              "      <td>7.125751e+05</td>\n",
              "      <td>9.556698e+05</td>\n",
              "      <td>475053.575312</td>\n",
              "      <td>2020-11-30</td>\n",
              "    </tr>\n",
              "    <tr>\n",
              "      <th>2019-01-13</th>\n",
              "      <td>25</td>\n",
              "      <td>6.964572e+05</td>\n",
              "      <td>7.437518e+05</td>\n",
              "      <td>9.678200e+05</td>\n",
              "      <td>507835.901822</td>\n",
              "      <td>2020-11-30</td>\n",
              "    </tr>\n",
              "    <tr>\n",
              "      <th>2019-01-20</th>\n",
              "      <td>25</td>\n",
              "      <td>9.968769e+05</td>\n",
              "      <td>9.729099e+05</td>\n",
              "      <td>1.198168e+06</td>\n",
              "      <td>736719.395531</td>\n",
              "      <td>2020-11-30</td>\n",
              "    </tr>\n",
              "    <tr>\n",
              "      <th>2019-01-27</th>\n",
              "      <td>25</td>\n",
              "      <td>1.029737e+06</td>\n",
              "      <td>1.034448e+06</td>\n",
              "      <td>1.264807e+06</td>\n",
              "      <td>804014.747396</td>\n",
              "      <td>2020-11-30</td>\n",
              "    </tr>\n",
              "    <tr>\n",
              "      <th>2019-02-03</th>\n",
              "      <td>25</td>\n",
              "      <td>1.072874e+06</td>\n",
              "      <td>9.863657e+05</td>\n",
              "      <td>1.228303e+06</td>\n",
              "      <td>753883.972893</td>\n",
              "      <td>2020-11-30</td>\n",
              "    </tr>\n",
              "  </tbody>\n",
              "</table>\n",
              "</div>"
            ],
            "text/plain": [
              "            store_id             y  ...     yhat_lower  training_date\n",
              "ds                                  ...                              \n",
              "2019-01-06        25  7.366572e+05  ...  475053.575312     2020-11-30\n",
              "2019-01-13        25  6.964572e+05  ...  507835.901822     2020-11-30\n",
              "2019-01-20        25  9.968769e+05  ...  736719.395531     2020-11-30\n",
              "2019-01-27        25  1.029737e+06  ...  804014.747396     2020-11-30\n",
              "2019-02-03        25  1.072874e+06  ...  753883.972893     2020-11-30\n",
              "\n",
              "[5 rows x 6 columns]"
            ]
          },
          "metadata": {
            "tags": []
          },
          "execution_count": 82
        }
      ]
    },
    {
      "cell_type": "code",
      "metadata": {
        "colab": {
          "base_uri": "https://localhost:8080/",
          "height": 645
        },
        "id": "Xe8ej7pcmvtA",
        "outputId": "e4985505-7661-4d3d-a5f3-e86170e7786b"
      },
      "source": [
        "df3.query('store_id==25')[['y','yhat']].plot(figsize=(20,10))"
      ],
      "execution_count": 85,
      "outputs": [
        {
          "output_type": "execute_result",
          "data": {
            "text/plain": [
              "<matplotlib.axes._subplots.AxesSubplot at 0x7fb9d9093710>"
            ]
          },
          "metadata": {
            "tags": []
          },
          "execution_count": 85
        },
        {
          "output_type": "display_data",
          "data": {
            "image/png": "[encoded data removed]",
            "text/plain": [
              "<Figure size 1440x720 with 1 Axes>"
            ]
          },
          "metadata": {
            "tags": [],
            "needs_background": "light"
          }
        }
      ]
    },
    {
      "cell_type": "code",
      "metadata": {
        "colab": {
          "base_uri": "https://localhost:8080/",
          "height": 634
        },
        "id": "dTc4Ynv8m9eS",
        "outputId": "b8655df1-64a8-4184-aa96-1938cf0dcc89"
      },
      "source": [
        "df3.query('store_id==38')[['y','yhat']].plot(figsize=(20,10))"
      ],
      "execution_count": 86,
      "outputs": [
        {
          "output_type": "execute_result",
          "data": {
            "text/plain": [
              "<matplotlib.axes._subplots.AxesSubplot at 0x7fb9d9031cc0>"
            ]
          },
          "metadata": {
            "tags": []
          },
          "execution_count": 86
        },
        {
          "output_type": "display_data",
          "data": {
            "image/png": "[encoded data removed]",
            "text/plain": [
              "<Figure size 1440x720 with 1 Axes>"
            ]
          },
          "metadata": {
            "tags": [],
            "needs_background": "light"
          }
        }
      ]
    },
    {
      "cell_type": "code",
      "metadata": {
        "id": "unDxanF9nDBX"
      },
      "source": [
        ""
      ],
      "execution_count": null,
      "outputs": []
    }
  ]
}