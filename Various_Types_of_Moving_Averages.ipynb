{
  "nbformat": 4,
  "nbformat_minor": 0,
  "metadata": {
    "colab": {
      "name": "Various Types of Moving Averages.ipynb",
      "provenance": [],
      "authorship_tag": "ABX9TyN2FOs4IijPj1ivd1P/tQjj",
      "include_colab_link": true
    },
    "kernelspec": {
      "name": "python3",
      "display_name": "Python 3"
    }
  },
  "cells": [
    {
      "cell_type": "markdown",
      "metadata": {
        "id": "view-in-github",
        "colab_type": "text"
      },
      "source": [
        "<a href=\"https://colab.research.google.com/github/SSR-ds/Time-Series-with-Python/blob/main/Various_Types_of_Moving_Averages.ipynb\" target=\"_parent\"><img src=\"https://colab.research.google.com/assets/colab-badge.svg\" alt=\"Open In Colab\"/></a>"
      ]
    },
    {
      "cell_type": "code",
      "metadata": {
        "id": "n4zhwBAFpIX1"
      },
      "source": [
        "import pandas as pd\n",
        "import numpy as np\n",
        "\n",
        "import matplotlib.pyplot as plt\n",
        "import matplotlib as mpl\n",
        "import plotly.express as px\n",
        "%matplotlib inline\n",
        "\n",
        "import os\n",
        "from datetime import datetime\n",
        "import seaborn as sns\n",
        "\n"
      ],
      "execution_count": 176,
      "outputs": []
    },
    {
      "cell_type": "code",
      "metadata": {
        "id": "o8k8WOmBp4GQ",
        "outputId": "3f5103e0-4a18-48d9-df96-cbf59f2dc0c6",
        "colab": {
          "resources": {
            "http://localhost:8080/nbextensions/google.colab/files.js": {
              "data": "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",
              "ok": true,
              "headers": [
                [
                  "content-type",
                  "application/javascript"
                ]
              ],
              "status": 200,
              "status_text": ""
            }
          },
          "base_uri": "https://localhost:8080/",
          "height": 72
        }
      },
      "source": [
        "from google.colab import files\n",
        "uploaded = files.upload()"
      ],
      "execution_count": 177,
      "outputs": [
        {
          "output_type": "display_data",
          "data": {
            "text/html": [
              "\n",
              "     <input type=\"file\" id=\"files-54350b09-5461-4e39-9931-d9302ff70bbb\" name=\"files[]\" multiple disabled\n",
              "        style=\"border:none\" />\n",
              "     <output id=\"result-54350b09-5461-4e39-9931-d9302ff70bbb\">\n",
              "      Upload widget is only available when the cell has been executed in the\n",
              "      current browser session. Please rerun this cell to enable.\n",
              "      </output>\n",
              "      <script src=\"/nbextensions/google.colab/files.js\"></script> "
            ],
            "text/plain": [
              "<IPython.core.display.HTML object>"
            ]
          },
          "metadata": {
            "tags": []
          }
        },
        {
          "output_type": "stream",
          "text": [
            "Saving electricity_c.csv to electricity_c (8).csv\n"
          ],
          "name": "stdout"
        }
      ]
    },
    {
      "cell_type": "code",
      "metadata": {
        "id": "QqwsWySIumqy"
      },
      "source": [
        "def new_time(x):\n",
        "\treturn datetime.strptime(x, '%m/%d/%Y')"
      ],
      "execution_count": 178,
      "outputs": []
    },
    {
      "cell_type": "code",
      "metadata": {
        "id": "FwI_DSlXtiEp"
      },
      "source": [
        "df1 = pd.read_csv('electricity_c.csv')"
      ],
      "execution_count": 179,
      "outputs": []
    },
    {
      "cell_type": "code",
      "metadata": {
        "id": "iF0cmnQetqZL",
        "outputId": "c599adc0-0066-4664-f1a8-1603c505d6f1",
        "colab": {
          "base_uri": "https://localhost:8080/",
          "height": 204
        }
      },
      "source": [
        "df1.head()"
      ],
      "execution_count": 180,
      "outputs": [
        {
          "output_type": "execute_result",
          "data": {
            "text/html": [
              "<div>\n",
              "<style scoped>\n",
              "    .dataframe tbody tr th:only-of-type {\n",
              "        vertical-align: middle;\n",
              "    }\n",
              "\n",
              "    .dataframe tbody tr th {\n",
              "        vertical-align: top;\n",
              "    }\n",
              "\n",
              "    .dataframe thead th {\n",
              "        text-align: right;\n",
              "    }\n",
              "</style>\n",
              "<table border=\"1\" class=\"dataframe\">\n",
              "  <thead>\n",
              "    <tr style=\"text-align: right;\">\n",
              "      <th></th>\n",
              "      <th>Bill_Date</th>\n",
              "      <th>On_peak</th>\n",
              "      <th>Off_peak</th>\n",
              "      <th>Usage_charge</th>\n",
              "      <th>Billed_amount</th>\n",
              "      <th>Billing_days</th>\n",
              "    </tr>\n",
              "  </thead>\n",
              "  <tbody>\n",
              "    <tr>\n",
              "      <th>0</th>\n",
              "      <td>1/1/2016</td>\n",
              "      <td>365</td>\n",
              "      <td>1423.5</td>\n",
              "      <td>219.0</td>\n",
              "      <td>247.73</td>\n",
              "      <td>31</td>\n",
              "    </tr>\n",
              "    <tr>\n",
              "      <th>1</th>\n",
              "      <td>2/1/2016</td>\n",
              "      <td>292</td>\n",
              "      <td>1138.8</td>\n",
              "      <td>175.2</td>\n",
              "      <td>234.11</td>\n",
              "      <td>31</td>\n",
              "    </tr>\n",
              "    <tr>\n",
              "      <th>2</th>\n",
              "      <td>3/1/2016</td>\n",
              "      <td>130</td>\n",
              "      <td>507.0</td>\n",
              "      <td>78.0</td>\n",
              "      <td>123.85</td>\n",
              "      <td>29</td>\n",
              "    </tr>\n",
              "    <tr>\n",
              "      <th>3</th>\n",
              "      <td>4/1/2016</td>\n",
              "      <td>117</td>\n",
              "      <td>456.3</td>\n",
              "      <td>70.2</td>\n",
              "      <td>111.22</td>\n",
              "      <td>29</td>\n",
              "    </tr>\n",
              "    <tr>\n",
              "      <th>4</th>\n",
              "      <td>5/1/2016</td>\n",
              "      <td>136</td>\n",
              "      <td>530.4</td>\n",
              "      <td>81.6</td>\n",
              "      <td>118.37</td>\n",
              "      <td>29</td>\n",
              "    </tr>\n",
              "  </tbody>\n",
              "</table>\n",
              "</div>"
            ],
            "text/plain": [
              "  Bill_Date  On_peak  Off_peak  Usage_charge  Billed_amount  Billing_days\n",
              "0  1/1/2016      365    1423.5         219.0         247.73            31\n",
              "1  2/1/2016      292    1138.8         175.2         234.11            31\n",
              "2  3/1/2016      130     507.0          78.0         123.85            29\n",
              "3  4/1/2016      117     456.3          70.2         111.22            29\n",
              "4  5/1/2016      136     530.4          81.6         118.37            29"
            ]
          },
          "metadata": {
            "tags": []
          },
          "execution_count": 180
        }
      ]
    },
    {
      "cell_type": "code",
      "metadata": {
        "id": "jw7azMEUtxD2",
        "outputId": "d5062d18-2718-411d-82fa-92d66de3ca7a",
        "colab": {
          "base_uri": "https://localhost:8080/",
          "height": 34
        }
      },
      "source": [
        "df1.shape     "
      ],
      "execution_count": 181,
      "outputs": [
        {
          "output_type": "execute_result",
          "data": {
            "text/plain": [
              "(53, 6)"
            ]
          },
          "metadata": {
            "tags": []
          },
          "execution_count": 181
        }
      ]
    },
    {
      "cell_type": "code",
      "metadata": {
        "id": "DVDBUYMBtyrC",
        "outputId": "b5f34729-cf85-41e5-c6ef-8df8e00ff4dd",
        "colab": {
          "base_uri": "https://localhost:8080/",
          "height": 68
        }
      },
      "source": [
        "df1.columns"
      ],
      "execution_count": 182,
      "outputs": [
        {
          "output_type": "execute_result",
          "data": {
            "text/plain": [
              "Index(['Bill_Date', 'On_peak', 'Off_peak', 'Usage_charge', 'Billed_amount',\n",
              "       'Billing_days'],\n",
              "      dtype='object')"
            ]
          },
          "metadata": {
            "tags": []
          },
          "execution_count": 182
        }
      ]
    },
    {
      "cell_type": "code",
      "metadata": {
        "id": "yS41Ukb_t1gW",
        "outputId": "40073cac-2c23-4b62-b30c-a7cc5fd07468",
        "colab": {
          "base_uri": "https://localhost:8080/",
          "height": 136
        }
      },
      "source": [
        "df1.isnull().sum()"
      ],
      "execution_count": 183,
      "outputs": [
        {
          "output_type": "execute_result",
          "data": {
            "text/plain": [
              "Bill_Date        0\n",
              "On_peak          0\n",
              "Off_peak         0\n",
              "Usage_charge     0\n",
              "Billed_amount    0\n",
              "Billing_days     0\n",
              "dtype: int64"
            ]
          },
          "metadata": {
            "tags": []
          },
          "execution_count": 183
        }
      ]
    },
    {
      "cell_type": "code",
      "metadata": {
        "id": "S7fDI7vLt8OW",
        "outputId": "6bf7d8b8-7c50-4dfa-b74b-7a096ba7d9d8",
        "colab": {
          "base_uri": "https://localhost:8080/",
          "height": 136
        }
      },
      "source": [
        "df1.nunique()"
      ],
      "execution_count": 184,
      "outputs": [
        {
          "output_type": "execute_result",
          "data": {
            "text/plain": [
              "Bill_Date        53\n",
              "On_peak          51\n",
              "Off_peak         53\n",
              "Usage_charge     53\n",
              "Billed_amount    52\n",
              "Billing_days      9\n",
              "dtype: int64"
            ]
          },
          "metadata": {
            "tags": []
          },
          "execution_count": 184
        }
      ]
    },
    {
      "cell_type": "code",
      "metadata": {
        "id": "yRAt5KaJxzLz",
        "outputId": "5730fb3f-e54c-49ac-8ba4-75e1775b60f8",
        "colab": {
          "base_uri": "https://localhost:8080/",
          "height": 935
        }
      },
      "source": [
        "df1['Bill_Date'] = pd.to_datetime(df1.Bill_Date)\n",
        "print (df1)"
      ],
      "execution_count": 185,
      "outputs": [
        {
          "output_type": "stream",
          "text": [
            "    Bill_Date  On_peak  Off_peak  Usage_charge  Billed_amount  Billing_days\n",
            "0  2016-01-01      365    1423.5        219.00         247.73            31\n",
            "1  2016-02-01      292    1138.8        175.20         234.11            31\n",
            "2  2016-03-01      130     507.0         78.00         123.85            29\n",
            "3  2016-04-01      117     456.3         70.20         111.22            29\n",
            "4  2016-05-01      136     530.4         81.60         118.37            29\n",
            "5  2016-06-01       63     245.7         37.80          77.81            32\n",
            "6  2016-07-01      110     429.0         66.00          86.67            30\n",
            "7  2016-08-01      176     686.4        105.60         122.40            29\n",
            "8  2016-09-01      357    1392.3        214.20         223.62            33\n",
            "9  2016-10-01      235     916.5        141.00         152.54            29\n",
            "10 2016-11-01      193     752.7        115.80         150.54            32\n",
            "11 2016-12-01      344    1341.6        206.40         244.37            31\n",
            "12 2017-01-01      347    1353.3        208.20         263.64            33\n",
            "13 2017-02-01      330    1287.0        198.00         214.32            27\n",
            "14 2017-03-01      185    1103.0        139.38         151.54            31\n",
            "15 2017-04-01      179     704.0        109.26         118.79            29\n",
            "16 2017-05-01      228     829.0        140.89         153.18            31\n",
            "17 2017-06-01      359    1067.0        195.07         212.08            31\n",
            "18 2017-07-01      468    1533.0        258.64         281.19            32\n",
            "19 2017-08-01      400    1252.0        218.87         237.97            30\n",
            "20 2017-09-01      432    1447.0        261.50         284.30            30\n",
            "21 2017-10-01      253     777.0        158.83         172.69            31\n",
            "22 2017-11-01      165     521.0        102.57         111.51            29\n",
            "23 2017-12-01      186     912.0        139.27         151.42            31\n",
            "24 2018-01-01      316    1869.0        245.88         267.32            33\n",
            "25 2018-02-01      256    1229.0        185.20         201.35            29\n",
            "26 2018-03-01      266    1337.0        194.50         202.91            26\n",
            "27 2018-04-01      141     812.0        143.44         150.86            34\n",
            "28 2018-05-01      167     791.0        154.70         163.07            29\n",
            "29 2018-06-01      257    1051.0        208.55         219.76            30\n",
            "30 2018-07-01      295    1482.0        269.93         283.98            33\n",
            "31 2018-08-01      330    1470.0        275.71         290.15            29\n",
            "32 2018-09-01      261    1375.0        245.48         257.96            26\n",
            "33 2018-10-01      366    1705.0        311.34         327.19            25\n",
            "34 2018-11-01      245    1036.0        184.40         193.49            30\n",
            "35 2018-12-01      125     899.0        145.26         152.34            32\n",
            "36 2019-01-01      151    1257.0        187.91         196.62            31\n",
            "37 2019-02-01      121    1281.0        181.85         190.07            31\n",
            "38 2019-03-01      128    1351.0        190.04         198.57            27\n",
            "39 2019-04-01       95     683.0        111.62         115.15            31\n",
            "40 2019-05-01      162     783.0        147.83         153.18            29\n",
            "41 2019-06-01      131     722.0        127.51         138.53            31\n",
            "42 2019-07-01      276    1254.0        219.52         238.48            31\n",
            "43 2019-08-01      376    1636.0        284.90         309.65            30\n",
            "44 2019-09-01      501    2139.0        371.61         403.89            34\n",
            "45 2019-10-01      279    1309.0        224.52         244.03            27\n",
            "46 2019-11-01      171     843.0        133.84         145.46            31\n",
            "47 2019-12-01       99     927.0        128.12         139.26            32\n",
            "48 2020-01-01      211    1761.0        231.71         251.85            31\n",
            "49 2020-02-01      190    1635.0        210.86         229.18            32\n",
            "50 2020-03-01      151    1179.0        156.56         170.16            29\n",
            "51 2020-04-01       75     625.0         87.27          94.85            29\n",
            "52 2020-05-01      147     686.0        124.39         135.19            29\n"
          ],
          "name": "stdout"
        }
      ]
    },
    {
      "cell_type": "code",
      "metadata": {
        "id": "RgxFtc-jt-3z"
      },
      "source": [
        "df2 = df1.set_index('Bill_Date')"
      ],
      "execution_count": 186,
      "outputs": []
    },
    {
      "cell_type": "code",
      "metadata": {
        "id": "mM2msemNuMxz",
        "outputId": "0db66922-5697-449e-8671-c19c92cf7ded",
        "colab": {
          "base_uri": "https://localhost:8080/",
          "height": 235
        }
      },
      "source": [
        "df2.head()"
      ],
      "execution_count": 187,
      "outputs": [
        {
          "output_type": "execute_result",
          "data": {
            "text/html": [
              "<div>\n",
              "<style scoped>\n",
              "    .dataframe tbody tr th:only-of-type {\n",
              "        vertical-align: middle;\n",
              "    }\n",
              "\n",
              "    .dataframe tbody tr th {\n",
              "        vertical-align: top;\n",
              "    }\n",
              "\n",
              "    .dataframe thead th {\n",
              "        text-align: right;\n",
              "    }\n",
              "</style>\n",
              "<table border=\"1\" class=\"dataframe\">\n",
              "  <thead>\n",
              "    <tr style=\"text-align: right;\">\n",
              "      <th></th>\n",
              "      <th>On_peak</th>\n",
              "      <th>Off_peak</th>\n",
              "      <th>Usage_charge</th>\n",
              "      <th>Billed_amount</th>\n",
              "      <th>Billing_days</th>\n",
              "    </tr>\n",
              "    <tr>\n",
              "      <th>Bill_Date</th>\n",
              "      <th></th>\n",
              "      <th></th>\n",
              "      <th></th>\n",
              "      <th></th>\n",
              "      <th></th>\n",
              "    </tr>\n",
              "  </thead>\n",
              "  <tbody>\n",
              "    <tr>\n",
              "      <th>2016-01-01</th>\n",
              "      <td>365</td>\n",
              "      <td>1423.5</td>\n",
              "      <td>219.0</td>\n",
              "      <td>247.73</td>\n",
              "      <td>31</td>\n",
              "    </tr>\n",
              "    <tr>\n",
              "      <th>2016-02-01</th>\n",
              "      <td>292</td>\n",
              "      <td>1138.8</td>\n",
              "      <td>175.2</td>\n",
              "      <td>234.11</td>\n",
              "      <td>31</td>\n",
              "    </tr>\n",
              "    <tr>\n",
              "      <th>2016-03-01</th>\n",
              "      <td>130</td>\n",
              "      <td>507.0</td>\n",
              "      <td>78.0</td>\n",
              "      <td>123.85</td>\n",
              "      <td>29</td>\n",
              "    </tr>\n",
              "    <tr>\n",
              "      <th>2016-04-01</th>\n",
              "      <td>117</td>\n",
              "      <td>456.3</td>\n",
              "      <td>70.2</td>\n",
              "      <td>111.22</td>\n",
              "      <td>29</td>\n",
              "    </tr>\n",
              "    <tr>\n",
              "      <th>2016-05-01</th>\n",
              "      <td>136</td>\n",
              "      <td>530.4</td>\n",
              "      <td>81.6</td>\n",
              "      <td>118.37</td>\n",
              "      <td>29</td>\n",
              "    </tr>\n",
              "  </tbody>\n",
              "</table>\n",
              "</div>"
            ],
            "text/plain": [
              "            On_peak  Off_peak  Usage_charge  Billed_amount  Billing_days\n",
              "Bill_Date                                                               \n",
              "2016-01-01      365    1423.5         219.0         247.73            31\n",
              "2016-02-01      292    1138.8         175.2         234.11            31\n",
              "2016-03-01      130     507.0          78.0         123.85            29\n",
              "2016-04-01      117     456.3          70.2         111.22            29\n",
              "2016-05-01      136     530.4          81.6         118.37            29"
            ]
          },
          "metadata": {
            "tags": []
          },
          "execution_count": 187
        }
      ]
    },
    {
      "cell_type": "code",
      "metadata": {
        "id": "t-EUK8GpuTOU"
      },
      "source": [
        "df2_2018 = df2['2016':'2018'][['Billed_amount']]"
      ],
      "execution_count": 188,
      "outputs": []
    },
    {
      "cell_type": "code",
      "metadata": {
        "id": "crO77dqFx65K",
        "outputId": "902a0ae3-8782-42bb-de81-8b9ba1f28e17",
        "colab": {
          "base_uri": "https://localhost:8080/",
          "height": 1000
        }
      },
      "source": [
        "df2_2018"
      ],
      "execution_count": 189,
      "outputs": [
        {
          "output_type": "execute_result",
          "data": {
            "text/html": [
              "<div>\n",
              "<style scoped>\n",
              "    .dataframe tbody tr th:only-of-type {\n",
              "        vertical-align: middle;\n",
              "    }\n",
              "\n",
              "    .dataframe tbody tr th {\n",
              "        vertical-align: top;\n",
              "    }\n",
              "\n",
              "    .dataframe thead th {\n",
              "        text-align: right;\n",
              "    }\n",
              "</style>\n",
              "<table border=\"1\" class=\"dataframe\">\n",
              "  <thead>\n",
              "    <tr style=\"text-align: right;\">\n",
              "      <th></th>\n",
              "      <th>Billed_amount</th>\n",
              "    </tr>\n",
              "    <tr>\n",
              "      <th>Bill_Date</th>\n",
              "      <th></th>\n",
              "    </tr>\n",
              "  </thead>\n",
              "  <tbody>\n",
              "    <tr>\n",
              "      <th>2016-01-01</th>\n",
              "      <td>247.73</td>\n",
              "    </tr>\n",
              "    <tr>\n",
              "      <th>2016-02-01</th>\n",
              "      <td>234.11</td>\n",
              "    </tr>\n",
              "    <tr>\n",
              "      <th>2016-03-01</th>\n",
              "      <td>123.85</td>\n",
              "    </tr>\n",
              "    <tr>\n",
              "      <th>2016-04-01</th>\n",
              "      <td>111.22</td>\n",
              "    </tr>\n",
              "    <tr>\n",
              "      <th>2016-05-01</th>\n",
              "      <td>118.37</td>\n",
              "    </tr>\n",
              "    <tr>\n",
              "      <th>2016-06-01</th>\n",
              "      <td>77.81</td>\n",
              "    </tr>\n",
              "    <tr>\n",
              "      <th>2016-07-01</th>\n",
              "      <td>86.67</td>\n",
              "    </tr>\n",
              "    <tr>\n",
              "      <th>2016-08-01</th>\n",
              "      <td>122.40</td>\n",
              "    </tr>\n",
              "    <tr>\n",
              "      <th>2016-09-01</th>\n",
              "      <td>223.62</td>\n",
              "    </tr>\n",
              "    <tr>\n",
              "      <th>2016-10-01</th>\n",
              "      <td>152.54</td>\n",
              "    </tr>\n",
              "    <tr>\n",
              "      <th>2016-11-01</th>\n",
              "      <td>150.54</td>\n",
              "    </tr>\n",
              "    <tr>\n",
              "      <th>2016-12-01</th>\n",
              "      <td>244.37</td>\n",
              "    </tr>\n",
              "    <tr>\n",
              "      <th>2017-01-01</th>\n",
              "      <td>263.64</td>\n",
              "    </tr>\n",
              "    <tr>\n",
              "      <th>2017-02-01</th>\n",
              "      <td>214.32</td>\n",
              "    </tr>\n",
              "    <tr>\n",
              "      <th>2017-03-01</th>\n",
              "      <td>151.54</td>\n",
              "    </tr>\n",
              "    <tr>\n",
              "      <th>2017-04-01</th>\n",
              "      <td>118.79</td>\n",
              "    </tr>\n",
              "    <tr>\n",
              "      <th>2017-05-01</th>\n",
              "      <td>153.18</td>\n",
              "    </tr>\n",
              "    <tr>\n",
              "      <th>2017-06-01</th>\n",
              "      <td>212.08</td>\n",
              "    </tr>\n",
              "    <tr>\n",
              "      <th>2017-07-01</th>\n",
              "      <td>281.19</td>\n",
              "    </tr>\n",
              "    <tr>\n",
              "      <th>2017-08-01</th>\n",
              "      <td>237.97</td>\n",
              "    </tr>\n",
              "    <tr>\n",
              "      <th>2017-09-01</th>\n",
              "      <td>284.30</td>\n",
              "    </tr>\n",
              "    <tr>\n",
              "      <th>2017-10-01</th>\n",
              "      <td>172.69</td>\n",
              "    </tr>\n",
              "    <tr>\n",
              "      <th>2017-11-01</th>\n",
              "      <td>111.51</td>\n",
              "    </tr>\n",
              "    <tr>\n",
              "      <th>2017-12-01</th>\n",
              "      <td>151.42</td>\n",
              "    </tr>\n",
              "    <tr>\n",
              "      <th>2018-01-01</th>\n",
              "      <td>267.32</td>\n",
              "    </tr>\n",
              "    <tr>\n",
              "      <th>2018-02-01</th>\n",
              "      <td>201.35</td>\n",
              "    </tr>\n",
              "    <tr>\n",
              "      <th>2018-03-01</th>\n",
              "      <td>202.91</td>\n",
              "    </tr>\n",
              "    <tr>\n",
              "      <th>2018-04-01</th>\n",
              "      <td>150.86</td>\n",
              "    </tr>\n",
              "    <tr>\n",
              "      <th>2018-05-01</th>\n",
              "      <td>163.07</td>\n",
              "    </tr>\n",
              "    <tr>\n",
              "      <th>2018-06-01</th>\n",
              "      <td>219.76</td>\n",
              "    </tr>\n",
              "    <tr>\n",
              "      <th>2018-07-01</th>\n",
              "      <td>283.98</td>\n",
              "    </tr>\n",
              "    <tr>\n",
              "      <th>2018-08-01</th>\n",
              "      <td>290.15</td>\n",
              "    </tr>\n",
              "    <tr>\n",
              "      <th>2018-09-01</th>\n",
              "      <td>257.96</td>\n",
              "    </tr>\n",
              "    <tr>\n",
              "      <th>2018-10-01</th>\n",
              "      <td>327.19</td>\n",
              "    </tr>\n",
              "    <tr>\n",
              "      <th>2018-11-01</th>\n",
              "      <td>193.49</td>\n",
              "    </tr>\n",
              "    <tr>\n",
              "      <th>2018-12-01</th>\n",
              "      <td>152.34</td>\n",
              "    </tr>\n",
              "  </tbody>\n",
              "</table>\n",
              "</div>"
            ],
            "text/plain": [
              "            Billed_amount\n",
              "Bill_Date                \n",
              "2016-01-01         247.73\n",
              "2016-02-01         234.11\n",
              "2016-03-01         123.85\n",
              "2016-04-01         111.22\n",
              "2016-05-01         118.37\n",
              "2016-06-01          77.81\n",
              "2016-07-01          86.67\n",
              "2016-08-01         122.40\n",
              "2016-09-01         223.62\n",
              "2016-10-01         152.54\n",
              "2016-11-01         150.54\n",
              "2016-12-01         244.37\n",
              "2017-01-01         263.64\n",
              "2017-02-01         214.32\n",
              "2017-03-01         151.54\n",
              "2017-04-01         118.79\n",
              "2017-05-01         153.18\n",
              "2017-06-01         212.08\n",
              "2017-07-01         281.19\n",
              "2017-08-01         237.97\n",
              "2017-09-01         284.30\n",
              "2017-10-01         172.69\n",
              "2017-11-01         111.51\n",
              "2017-12-01         151.42\n",
              "2018-01-01         267.32\n",
              "2018-02-01         201.35\n",
              "2018-03-01         202.91\n",
              "2018-04-01         150.86\n",
              "2018-05-01         163.07\n",
              "2018-06-01         219.76\n",
              "2018-07-01         283.98\n",
              "2018-08-01         290.15\n",
              "2018-09-01         257.96\n",
              "2018-10-01         327.19\n",
              "2018-11-01         193.49\n",
              "2018-12-01         152.34"
            ]
          },
          "metadata": {
            "tags": []
          },
          "execution_count": 189
        }
      ]
    },
    {
      "cell_type": "code",
      "metadata": {
        "id": "PH9E1XD9yJKa",
        "outputId": "c92eaeaa-8056-4f5e-cc52-4410359ef55b",
        "colab": {
          "base_uri": "https://localhost:8080/",
          "height": 663
        }
      },
      "source": [
        "#simple moving average\n",
        "df2_2018['Billed_amount'].rolling(window=3).mean()"
      ],
      "execution_count": 190,
      "outputs": [
        {
          "output_type": "execute_result",
          "data": {
            "text/plain": [
              "Bill_Date\n",
              "2016-01-01           NaN\n",
              "2016-02-01           NaN\n",
              "2016-03-01    201.896667\n",
              "2016-04-01    156.393333\n",
              "2016-05-01    117.813333\n",
              "2016-06-01    102.466667\n",
              "2016-07-01     94.283333\n",
              "2016-08-01     95.626667\n",
              "2016-09-01    144.230000\n",
              "2016-10-01    166.186667\n",
              "2016-11-01    175.566667\n",
              "2016-12-01    182.483333\n",
              "2017-01-01    219.516667\n",
              "2017-02-01    240.776667\n",
              "2017-03-01    209.833333\n",
              "2017-04-01    161.550000\n",
              "2017-05-01    141.170000\n",
              "2017-06-01    161.350000\n",
              "2017-07-01    215.483333\n",
              "2017-08-01    243.746667\n",
              "2017-09-01    267.820000\n",
              "2017-10-01    231.653333\n",
              "2017-11-01    189.500000\n",
              "2017-12-01    145.206667\n",
              "2018-01-01    176.750000\n",
              "2018-02-01    206.696667\n",
              "2018-03-01    223.860000\n",
              "2018-04-01    185.040000\n",
              "2018-05-01    172.280000\n",
              "2018-06-01    177.896667\n",
              "2018-07-01    222.270000\n",
              "2018-08-01    264.630000\n",
              "2018-09-01    277.363333\n",
              "2018-10-01    291.766667\n",
              "2018-11-01    259.546667\n",
              "2018-12-01    224.340000\n",
              "Name: Billed_amount, dtype: float64"
            ]
          },
          "metadata": {
            "tags": []
          },
          "execution_count": 190
        }
      ]
    },
    {
      "cell_type": "code",
      "metadata": {
        "id": "Cx6jgwqrzUVd"
      },
      "source": [
        "df2_2018['ma_window_3'] = df2_2018['Billed_amount'].rolling(window=3).mean().shift(1)  "
      ],
      "execution_count": 191,
      "outputs": []
    },
    {
      "cell_type": "code",
      "metadata": {
        "id": "heBk88dLzgrU",
        "outputId": "375badcc-da5f-4fe5-f07d-71342e2671cf",
        "colab": {
          "base_uri": "https://localhost:8080/",
          "height": 1000
        }
      },
      "source": [
        "df2_2018"
      ],
      "execution_count": 192,
      "outputs": [
        {
          "output_type": "execute_result",
          "data": {
            "text/html": [
              "<div>\n",
              "<style scoped>\n",
              "    .dataframe tbody tr th:only-of-type {\n",
              "        vertical-align: middle;\n",
              "    }\n",
              "\n",
              "    .dataframe tbody tr th {\n",
              "        vertical-align: top;\n",
              "    }\n",
              "\n",
              "    .dataframe thead th {\n",
              "        text-align: right;\n",
              "    }\n",
              "</style>\n",
              "<table border=\"1\" class=\"dataframe\">\n",
              "  <thead>\n",
              "    <tr style=\"text-align: right;\">\n",
              "      <th></th>\n",
              "      <th>Billed_amount</th>\n",
              "      <th>ma_window_3</th>\n",
              "    </tr>\n",
              "    <tr>\n",
              "      <th>Bill_Date</th>\n",
              "      <th></th>\n",
              "      <th></th>\n",
              "    </tr>\n",
              "  </thead>\n",
              "  <tbody>\n",
              "    <tr>\n",
              "      <th>2016-01-01</th>\n",
              "      <td>247.73</td>\n",
              "      <td>NaN</td>\n",
              "    </tr>\n",
              "    <tr>\n",
              "      <th>2016-02-01</th>\n",
              "      <td>234.11</td>\n",
              "      <td>NaN</td>\n",
              "    </tr>\n",
              "    <tr>\n",
              "      <th>2016-03-01</th>\n",
              "      <td>123.85</td>\n",
              "      <td>NaN</td>\n",
              "    </tr>\n",
              "    <tr>\n",
              "      <th>2016-04-01</th>\n",
              "      <td>111.22</td>\n",
              "      <td>201.896667</td>\n",
              "    </tr>\n",
              "    <tr>\n",
              "      <th>2016-05-01</th>\n",
              "      <td>118.37</td>\n",
              "      <td>156.393333</td>\n",
              "    </tr>\n",
              "    <tr>\n",
              "      <th>2016-06-01</th>\n",
              "      <td>77.81</td>\n",
              "      <td>117.813333</td>\n",
              "    </tr>\n",
              "    <tr>\n",
              "      <th>2016-07-01</th>\n",
              "      <td>86.67</td>\n",
              "      <td>102.466667</td>\n",
              "    </tr>\n",
              "    <tr>\n",
              "      <th>2016-08-01</th>\n",
              "      <td>122.40</td>\n",
              "      <td>94.283333</td>\n",
              "    </tr>\n",
              "    <tr>\n",
              "      <th>2016-09-01</th>\n",
              "      <td>223.62</td>\n",
              "      <td>95.626667</td>\n",
              "    </tr>\n",
              "    <tr>\n",
              "      <th>2016-10-01</th>\n",
              "      <td>152.54</td>\n",
              "      <td>144.230000</td>\n",
              "    </tr>\n",
              "    <tr>\n",
              "      <th>2016-11-01</th>\n",
              "      <td>150.54</td>\n",
              "      <td>166.186667</td>\n",
              "    </tr>\n",
              "    <tr>\n",
              "      <th>2016-12-01</th>\n",
              "      <td>244.37</td>\n",
              "      <td>175.566667</td>\n",
              "    </tr>\n",
              "    <tr>\n",
              "      <th>2017-01-01</th>\n",
              "      <td>263.64</td>\n",
              "      <td>182.483333</td>\n",
              "    </tr>\n",
              "    <tr>\n",
              "      <th>2017-02-01</th>\n",
              "      <td>214.32</td>\n",
              "      <td>219.516667</td>\n",
              "    </tr>\n",
              "    <tr>\n",
              "      <th>2017-03-01</th>\n",
              "      <td>151.54</td>\n",
              "      <td>240.776667</td>\n",
              "    </tr>\n",
              "    <tr>\n",
              "      <th>2017-04-01</th>\n",
              "      <td>118.79</td>\n",
              "      <td>209.833333</td>\n",
              "    </tr>\n",
              "    <tr>\n",
              "      <th>2017-05-01</th>\n",
              "      <td>153.18</td>\n",
              "      <td>161.550000</td>\n",
              "    </tr>\n",
              "    <tr>\n",
              "      <th>2017-06-01</th>\n",
              "      <td>212.08</td>\n",
              "      <td>141.170000</td>\n",
              "    </tr>\n",
              "    <tr>\n",
              "      <th>2017-07-01</th>\n",
              "      <td>281.19</td>\n",
              "      <td>161.350000</td>\n",
              "    </tr>\n",
              "    <tr>\n",
              "      <th>2017-08-01</th>\n",
              "      <td>237.97</td>\n",
              "      <td>215.483333</td>\n",
              "    </tr>\n",
              "    <tr>\n",
              "      <th>2017-09-01</th>\n",
              "      <td>284.30</td>\n",
              "      <td>243.746667</td>\n",
              "    </tr>\n",
              "    <tr>\n",
              "      <th>2017-10-01</th>\n",
              "      <td>172.69</td>\n",
              "      <td>267.820000</td>\n",
              "    </tr>\n",
              "    <tr>\n",
              "      <th>2017-11-01</th>\n",
              "      <td>111.51</td>\n",
              "      <td>231.653333</td>\n",
              "    </tr>\n",
              "    <tr>\n",
              "      <th>2017-12-01</th>\n",
              "      <td>151.42</td>\n",
              "      <td>189.500000</td>\n",
              "    </tr>\n",
              "    <tr>\n",
              "      <th>2018-01-01</th>\n",
              "      <td>267.32</td>\n",
              "      <td>145.206667</td>\n",
              "    </tr>\n",
              "    <tr>\n",
              "      <th>2018-02-01</th>\n",
              "      <td>201.35</td>\n",
              "      <td>176.750000</td>\n",
              "    </tr>\n",
              "    <tr>\n",
              "      <th>2018-03-01</th>\n",
              "      <td>202.91</td>\n",
              "      <td>206.696667</td>\n",
              "    </tr>\n",
              "    <tr>\n",
              "      <th>2018-04-01</th>\n",
              "      <td>150.86</td>\n",
              "      <td>223.860000</td>\n",
              "    </tr>\n",
              "    <tr>\n",
              "      <th>2018-05-01</th>\n",
              "      <td>163.07</td>\n",
              "      <td>185.040000</td>\n",
              "    </tr>\n",
              "    <tr>\n",
              "      <th>2018-06-01</th>\n",
              "      <td>219.76</td>\n",
              "      <td>172.280000</td>\n",
              "    </tr>\n",
              "    <tr>\n",
              "      <th>2018-07-01</th>\n",
              "      <td>283.98</td>\n",
              "      <td>177.896667</td>\n",
              "    </tr>\n",
              "    <tr>\n",
              "      <th>2018-08-01</th>\n",
              "      <td>290.15</td>\n",
              "      <td>222.270000</td>\n",
              "    </tr>\n",
              "    <tr>\n",
              "      <th>2018-09-01</th>\n",
              "      <td>257.96</td>\n",
              "      <td>264.630000</td>\n",
              "    </tr>\n",
              "    <tr>\n",
              "      <th>2018-10-01</th>\n",
              "      <td>327.19</td>\n",
              "      <td>277.363333</td>\n",
              "    </tr>\n",
              "    <tr>\n",
              "      <th>2018-11-01</th>\n",
              "      <td>193.49</td>\n",
              "      <td>291.766667</td>\n",
              "    </tr>\n",
              "    <tr>\n",
              "      <th>2018-12-01</th>\n",
              "      <td>152.34</td>\n",
              "      <td>259.546667</td>\n",
              "    </tr>\n",
              "  </tbody>\n",
              "</table>\n",
              "</div>"
            ],
            "text/plain": [
              "            Billed_amount  ma_window_3\n",
              "Bill_Date                             \n",
              "2016-01-01         247.73          NaN\n",
              "2016-02-01         234.11          NaN\n",
              "2016-03-01         123.85          NaN\n",
              "2016-04-01         111.22   201.896667\n",
              "2016-05-01         118.37   156.393333\n",
              "2016-06-01          77.81   117.813333\n",
              "2016-07-01          86.67   102.466667\n",
              "2016-08-01         122.40    94.283333\n",
              "2016-09-01         223.62    95.626667\n",
              "2016-10-01         152.54   144.230000\n",
              "2016-11-01         150.54   166.186667\n",
              "2016-12-01         244.37   175.566667\n",
              "2017-01-01         263.64   182.483333\n",
              "2017-02-01         214.32   219.516667\n",
              "2017-03-01         151.54   240.776667\n",
              "2017-04-01         118.79   209.833333\n",
              "2017-05-01         153.18   161.550000\n",
              "2017-06-01         212.08   141.170000\n",
              "2017-07-01         281.19   161.350000\n",
              "2017-08-01         237.97   215.483333\n",
              "2017-09-01         284.30   243.746667\n",
              "2017-10-01         172.69   267.820000\n",
              "2017-11-01         111.51   231.653333\n",
              "2017-12-01         151.42   189.500000\n",
              "2018-01-01         267.32   145.206667\n",
              "2018-02-01         201.35   176.750000\n",
              "2018-03-01         202.91   206.696667\n",
              "2018-04-01         150.86   223.860000\n",
              "2018-05-01         163.07   185.040000\n",
              "2018-06-01         219.76   172.280000\n",
              "2018-07-01         283.98   177.896667\n",
              "2018-08-01         290.15   222.270000\n",
              "2018-09-01         257.96   264.630000\n",
              "2018-10-01         327.19   277.363333\n",
              "2018-11-01         193.49   291.766667\n",
              "2018-12-01         152.34   259.546667"
            ]
          },
          "metadata": {
            "tags": []
          },
          "execution_count": 192
        }
      ]
    },
    {
      "cell_type": "code",
      "metadata": {
        "id": "EDfjAD_kz7aa",
        "outputId": "5f09c744-f7b3-4063-97ca-936df41ce304",
        "colab": {
          "base_uri": "https://localhost:8080/",
          "height": 292
        }
      },
      "source": [
        "df2_2018.plot();"
      ],
      "execution_count": 193,
      "outputs": [
        {
          "output_type": "display_data",
          "data": {
            "image/png": "[encoded data removed]",
            "text/plain": [
              "<Figure size 432x288 with 1 Axes>"
            ]
          },
          "metadata": {
            "tags": [],
            "needs_background": "light"
          }
        }
      ]
    },
    {
      "cell_type": "code",
      "metadata": {
        "id": "DNiX9LwS1QlX"
      },
      "source": [
        "#weighted moving average\n",
        "def wma(weights):\n",
        "  def calculation(x):\n",
        "    return (weights*x).mean()\n",
        "  return calculation"
      ],
      "execution_count": 194,
      "outputs": []
    },
    {
      "cell_type": "code",
      "metadata": {
        "id": "tdCNb7et1mC_"
      },
      "source": [
        "df2_2018['wma_rolling_window_3'] = df2_2018['Billed_amount'].rolling(window=3).apply(wma(np.array([0.5,1,1.5]))).shift(1)"
      ],
      "execution_count": 195,
      "outputs": []
    },
    {
      "cell_type": "code",
      "metadata": {
        "id": "56zE0Rwc18a0",
        "outputId": "d0382098-08d4-4039-991c-35d926ec0710",
        "colab": {
          "base_uri": "https://localhost:8080/",
          "height": 1000
        }
      },
      "source": [
        "df2_2018"
      ],
      "execution_count": 196,
      "outputs": [
        {
          "output_type": "execute_result",
          "data": {
            "text/html": [
              "<div>\n",
              "<style scoped>\n",
              "    .dataframe tbody tr th:only-of-type {\n",
              "        vertical-align: middle;\n",
              "    }\n",
              "\n",
              "    .dataframe tbody tr th {\n",
              "        vertical-align: top;\n",
              "    }\n",
              "\n",
              "    .dataframe thead th {\n",
              "        text-align: right;\n",
              "    }\n",
              "</style>\n",
              "<table border=\"1\" class=\"dataframe\">\n",
              "  <thead>\n",
              "    <tr style=\"text-align: right;\">\n",
              "      <th></th>\n",
              "      <th>Billed_amount</th>\n",
              "      <th>ma_window_3</th>\n",
              "      <th>wma_rolling_window_3</th>\n",
              "    </tr>\n",
              "    <tr>\n",
              "      <th>Bill_Date</th>\n",
              "      <th></th>\n",
              "      <th></th>\n",
              "      <th></th>\n",
              "    </tr>\n",
              "  </thead>\n",
              "  <tbody>\n",
              "    <tr>\n",
              "      <th>2016-01-01</th>\n",
              "      <td>247.73</td>\n",
              "      <td>NaN</td>\n",
              "      <td>NaN</td>\n",
              "    </tr>\n",
              "    <tr>\n",
              "      <th>2016-02-01</th>\n",
              "      <td>234.11</td>\n",
              "      <td>NaN</td>\n",
              "      <td>NaN</td>\n",
              "    </tr>\n",
              "    <tr>\n",
              "      <th>2016-03-01</th>\n",
              "      <td>123.85</td>\n",
              "      <td>NaN</td>\n",
              "      <td>NaN</td>\n",
              "    </tr>\n",
              "    <tr>\n",
              "      <th>2016-04-01</th>\n",
              "      <td>111.22</td>\n",
              "      <td>201.896667</td>\n",
              "      <td>181.250000</td>\n",
              "    </tr>\n",
              "    <tr>\n",
              "      <th>2016-05-01</th>\n",
              "      <td>118.37</td>\n",
              "      <td>156.393333</td>\n",
              "      <td>135.911667</td>\n",
              "    </tr>\n",
              "    <tr>\n",
              "      <th>2016-06-01</th>\n",
              "      <td>77.81</td>\n",
              "      <td>117.813333</td>\n",
              "      <td>116.900000</td>\n",
              "    </tr>\n",
              "    <tr>\n",
              "      <th>2016-07-01</th>\n",
              "      <td>86.67</td>\n",
              "      <td>102.466667</td>\n",
              "      <td>96.898333</td>\n",
              "    </tr>\n",
              "    <tr>\n",
              "      <th>2016-08-01</th>\n",
              "      <td>122.40</td>\n",
              "      <td>94.283333</td>\n",
              "      <td>89.000000</td>\n",
              "    </tr>\n",
              "    <tr>\n",
              "      <th>2016-09-01</th>\n",
              "      <td>223.62</td>\n",
              "      <td>95.626667</td>\n",
              "      <td>103.058333</td>\n",
              "    </tr>\n",
              "    <tr>\n",
              "      <th>2016-10-01</th>\n",
              "      <td>152.54</td>\n",
              "      <td>144.230000</td>\n",
              "      <td>167.055000</td>\n",
              "    </tr>\n",
              "    <tr>\n",
              "      <th>2016-11-01</th>\n",
              "      <td>150.54</td>\n",
              "      <td>166.186667</td>\n",
              "      <td>171.210000</td>\n",
              "    </tr>\n",
              "    <tr>\n",
              "      <th>2016-12-01</th>\n",
              "      <td>244.37</td>\n",
              "      <td>175.566667</td>\n",
              "      <td>163.386667</td>\n",
              "    </tr>\n",
              "    <tr>\n",
              "      <th>2017-01-01</th>\n",
              "      <td>263.64</td>\n",
              "      <td>182.483333</td>\n",
              "      <td>197.788333</td>\n",
              "    </tr>\n",
              "    <tr>\n",
              "      <th>2017-02-01</th>\n",
              "      <td>214.32</td>\n",
              "      <td>219.516667</td>\n",
              "      <td>238.366667</td>\n",
              "    </tr>\n",
              "    <tr>\n",
              "      <th>2017-03-01</th>\n",
              "      <td>151.54</td>\n",
              "      <td>240.776667</td>\n",
              "      <td>235.768333</td>\n",
              "    </tr>\n",
              "    <tr>\n",
              "      <th>2017-04-01</th>\n",
              "      <td>118.79</td>\n",
              "      <td>209.833333</td>\n",
              "      <td>191.150000</td>\n",
              "    </tr>\n",
              "    <tr>\n",
              "      <th>2017-05-01</th>\n",
              "      <td>153.18</td>\n",
              "      <td>161.550000</td>\n",
              "      <td>145.628333</td>\n",
              "    </tr>\n",
              "    <tr>\n",
              "      <th>2017-06-01</th>\n",
              "      <td>212.08</td>\n",
              "      <td>141.170000</td>\n",
              "      <td>141.443333</td>\n",
              "    </tr>\n",
              "    <tr>\n",
              "      <th>2017-07-01</th>\n",
              "      <td>281.19</td>\n",
              "      <td>161.350000</td>\n",
              "      <td>176.898333</td>\n",
              "    </tr>\n",
              "    <tr>\n",
              "      <th>2017-08-01</th>\n",
              "      <td>237.97</td>\n",
              "      <td>215.483333</td>\n",
              "      <td>236.818333</td>\n",
              "    </tr>\n",
              "    <tr>\n",
              "      <th>2017-09-01</th>\n",
              "      <td>284.30</td>\n",
              "      <td>243.746667</td>\n",
              "      <td>248.061667</td>\n",
              "    </tr>\n",
              "    <tr>\n",
              "      <th>2017-10-01</th>\n",
              "      <td>172.69</td>\n",
              "      <td>267.820000</td>\n",
              "      <td>268.338333</td>\n",
              "    </tr>\n",
              "    <tr>\n",
              "      <th>2017-11-01</th>\n",
              "      <td>111.51</td>\n",
              "      <td>231.653333</td>\n",
              "      <td>220.773333</td>\n",
              "    </tr>\n",
              "    <tr>\n",
              "      <th>2017-12-01</th>\n",
              "      <td>151.42</td>\n",
              "      <td>189.500000</td>\n",
              "      <td>160.701667</td>\n",
              "    </tr>\n",
              "    <tr>\n",
              "      <th>2018-01-01</th>\n",
              "      <td>267.32</td>\n",
              "      <td>145.206667</td>\n",
              "      <td>141.661667</td>\n",
              "    </tr>\n",
              "    <tr>\n",
              "      <th>2018-02-01</th>\n",
              "      <td>201.35</td>\n",
              "      <td>176.750000</td>\n",
              "      <td>202.718333</td>\n",
              "    </tr>\n",
              "    <tr>\n",
              "      <th>2018-03-01</th>\n",
              "      <td>202.91</td>\n",
              "      <td>206.696667</td>\n",
              "      <td>215.018333</td>\n",
              "    </tr>\n",
              "    <tr>\n",
              "      <th>2018-04-01</th>\n",
              "      <td>150.86</td>\n",
              "      <td>223.860000</td>\n",
              "      <td>213.125000</td>\n",
              "    </tr>\n",
              "    <tr>\n",
              "      <th>2018-05-01</th>\n",
              "      <td>163.07</td>\n",
              "      <td>185.040000</td>\n",
              "      <td>176.625000</td>\n",
              "    </tr>\n",
              "    <tr>\n",
              "      <th>2018-06-01</th>\n",
              "      <td>219.76</td>\n",
              "      <td>172.280000</td>\n",
              "      <td>165.640000</td>\n",
              "    </tr>\n",
              "    <tr>\n",
              "      <th>2018-07-01</th>\n",
              "      <td>283.98</td>\n",
              "      <td>177.896667</td>\n",
              "      <td>189.380000</td>\n",
              "    </tr>\n",
              "    <tr>\n",
              "      <th>2018-08-01</th>\n",
              "      <td>290.15</td>\n",
              "      <td>222.270000</td>\n",
              "      <td>242.421667</td>\n",
              "    </tr>\n",
              "    <tr>\n",
              "      <th>2018-09-01</th>\n",
              "      <td>257.96</td>\n",
              "      <td>264.630000</td>\n",
              "      <td>276.361667</td>\n",
              "    </tr>\n",
              "    <tr>\n",
              "      <th>2018-10-01</th>\n",
              "      <td>327.19</td>\n",
              "      <td>277.363333</td>\n",
              "      <td>273.026667</td>\n",
              "    </tr>\n",
              "    <tr>\n",
              "      <th>2018-11-01</th>\n",
              "      <td>193.49</td>\n",
              "      <td>291.766667</td>\n",
              "      <td>297.940000</td>\n",
              "    </tr>\n",
              "    <tr>\n",
              "      <th>2018-12-01</th>\n",
              "      <td>152.34</td>\n",
              "      <td>259.546667</td>\n",
              "      <td>248.801667</td>\n",
              "    </tr>\n",
              "  </tbody>\n",
              "</table>\n",
              "</div>"
            ],
            "text/plain": [
              "            Billed_amount  ma_window_3  wma_rolling_window_3\n",
              "Bill_Date                                                   \n",
              "2016-01-01         247.73          NaN                   NaN\n",
              "2016-02-01         234.11          NaN                   NaN\n",
              "2016-03-01         123.85          NaN                   NaN\n",
              "2016-04-01         111.22   201.896667            181.250000\n",
              "2016-05-01         118.37   156.393333            135.911667\n",
              "2016-06-01          77.81   117.813333            116.900000\n",
              "2016-07-01          86.67   102.466667             96.898333\n",
              "2016-08-01         122.40    94.283333             89.000000\n",
              "2016-09-01         223.62    95.626667            103.058333\n",
              "2016-10-01         152.54   144.230000            167.055000\n",
              "2016-11-01         150.54   166.186667            171.210000\n",
              "2016-12-01         244.37   175.566667            163.386667\n",
              "2017-01-01         263.64   182.483333            197.788333\n",
              "2017-02-01         214.32   219.516667            238.366667\n",
              "2017-03-01         151.54   240.776667            235.768333\n",
              "2017-04-01         118.79   209.833333            191.150000\n",
              "2017-05-01         153.18   161.550000            145.628333\n",
              "2017-06-01         212.08   141.170000            141.443333\n",
              "2017-07-01         281.19   161.350000            176.898333\n",
              "2017-08-01         237.97   215.483333            236.818333\n",
              "2017-09-01         284.30   243.746667            248.061667\n",
              "2017-10-01         172.69   267.820000            268.338333\n",
              "2017-11-01         111.51   231.653333            220.773333\n",
              "2017-12-01         151.42   189.500000            160.701667\n",
              "2018-01-01         267.32   145.206667            141.661667\n",
              "2018-02-01         201.35   176.750000            202.718333\n",
              "2018-03-01         202.91   206.696667            215.018333\n",
              "2018-04-01         150.86   223.860000            213.125000\n",
              "2018-05-01         163.07   185.040000            176.625000\n",
              "2018-06-01         219.76   172.280000            165.640000\n",
              "2018-07-01         283.98   177.896667            189.380000\n",
              "2018-08-01         290.15   222.270000            242.421667\n",
              "2018-09-01         257.96   264.630000            276.361667\n",
              "2018-10-01         327.19   277.363333            273.026667\n",
              "2018-11-01         193.49   291.766667            297.940000\n",
              "2018-12-01         152.34   259.546667            248.801667"
            ]
          },
          "metadata": {
            "tags": []
          },
          "execution_count": 196
        }
      ]
    },
    {
      "cell_type": "code",
      "metadata": {
        "id": "kXdz-bXo2Ayx",
        "outputId": "ecf8d443-7aea-43a1-b19d-7772f7b19961",
        "colab": {
          "base_uri": "https://localhost:8080/",
          "height": 292
        }
      },
      "source": [
        "df2_2018.plot();"
      ],
      "execution_count": 197,
      "outputs": [
        {
          "output_type": "display_data",
          "data": {
            "image/png": "[encoded data removed]",
            "text/plain": [
              "<Figure size 432x288 with 1 Axes>"
            ]
          },
          "metadata": {
            "tags": [],
            "needs_background": "light"
          }
        }
      ]
    },
    {
      "cell_type": "code",
      "metadata": {
        "id": "bK3Z4Spk4gjk",
        "outputId": "2657714d-c321-4ebc-ba76-7ee60706ac8f",
        "colab": {
          "base_uri": "https://localhost:8080/",
          "height": 663
        }
      },
      "source": [
        "#exponential moving average\n",
        "df2_2018['Billed_amount'].ewm(span=3, adjust=False, min_periods=0).mean()"
      ],
      "execution_count": 198,
      "outputs": [
        {
          "output_type": "execute_result",
          "data": {
            "text/plain": [
              "Bill_Date\n",
              "2016-01-01    247.730000\n",
              "2016-02-01    240.920000\n",
              "2016-03-01    182.385000\n",
              "2016-04-01    146.802500\n",
              "2016-05-01    132.586250\n",
              "2016-06-01    105.198125\n",
              "2016-07-01     95.934063\n",
              "2016-08-01    109.167031\n",
              "2016-09-01    166.393516\n",
              "2016-10-01    159.466758\n",
              "2016-11-01    155.003379\n",
              "2016-12-01    199.686689\n",
              "2017-01-01    231.663345\n",
              "2017-02-01    222.991672\n",
              "2017-03-01    187.265836\n",
              "2017-04-01    153.027918\n",
              "2017-05-01    153.103959\n",
              "2017-06-01    182.591980\n",
              "2017-07-01    231.890990\n",
              "2017-08-01    234.930495\n",
              "2017-09-01    259.615247\n",
              "2017-10-01    216.152624\n",
              "2017-11-01    163.831312\n",
              "2017-12-01    157.625656\n",
              "2018-01-01    212.472828\n",
              "2018-02-01    206.911414\n",
              "2018-03-01    204.910707\n",
              "2018-04-01    177.885353\n",
              "2018-05-01    170.477677\n",
              "2018-06-01    195.118838\n",
              "2018-07-01    239.549419\n",
              "2018-08-01    264.849710\n",
              "2018-09-01    261.404855\n",
              "2018-10-01    294.297427\n",
              "2018-11-01    243.893714\n",
              "2018-12-01    198.116857\n",
              "Name: Billed_amount, dtype: float64"
            ]
          },
          "metadata": {
            "tags": []
          },
          "execution_count": 198
        }
      ]
    },
    {
      "cell_type": "code",
      "metadata": {
        "id": "miglo8NF43Y_"
      },
      "source": [
        "df2_2018['EWM(3)'] = df2_2018['Billed_amount'].ewm(span=3, adjust=False, min_periods=0).mean().shift(1)"
      ],
      "execution_count": 199,
      "outputs": []
    },
    {
      "cell_type": "code",
      "metadata": {
        "id": "N1NYqc8D5AjN",
        "outputId": "131d8eb3-10a4-4a5c-f65b-795ab07a20f6",
        "colab": {
          "base_uri": "https://localhost:8080/",
          "height": 1000
        }
      },
      "source": [
        "df2_2018"
      ],
      "execution_count": 200,
      "outputs": [
        {
          "output_type": "execute_result",
          "data": {
            "text/html": [
              "<div>\n",
              "<style scoped>\n",
              "    .dataframe tbody tr th:only-of-type {\n",
              "        vertical-align: middle;\n",
              "    }\n",
              "\n",
              "    .dataframe tbody tr th {\n",
              "        vertical-align: top;\n",
              "    }\n",
              "\n",
              "    .dataframe thead th {\n",
              "        text-align: right;\n",
              "    }\n",
              "</style>\n",
              "<table border=\"1\" class=\"dataframe\">\n",
              "  <thead>\n",
              "    <tr style=\"text-align: right;\">\n",
              "      <th></th>\n",
              "      <th>Billed_amount</th>\n",
              "      <th>ma_window_3</th>\n",
              "      <th>wma_rolling_window_3</th>\n",
              "      <th>EWM(3)</th>\n",
              "    </tr>\n",
              "    <tr>\n",
              "      <th>Bill_Date</th>\n",
              "      <th></th>\n",
              "      <th></th>\n",
              "      <th></th>\n",
              "      <th></th>\n",
              "    </tr>\n",
              "  </thead>\n",
              "  <tbody>\n",
              "    <tr>\n",
              "      <th>2016-01-01</th>\n",
              "      <td>247.73</td>\n",
              "      <td>NaN</td>\n",
              "      <td>NaN</td>\n",
              "      <td>NaN</td>\n",
              "    </tr>\n",
              "    <tr>\n",
              "      <th>2016-02-01</th>\n",
              "      <td>234.11</td>\n",
              "      <td>NaN</td>\n",
              "      <td>NaN</td>\n",
              "      <td>247.730000</td>\n",
              "    </tr>\n",
              "    <tr>\n",
              "      <th>2016-03-01</th>\n",
              "      <td>123.85</td>\n",
              "      <td>NaN</td>\n",
              "      <td>NaN</td>\n",
              "      <td>240.920000</td>\n",
              "    </tr>\n",
              "    <tr>\n",
              "      <th>2016-04-01</th>\n",
              "      <td>111.22</td>\n",
              "      <td>201.896667</td>\n",
              "      <td>181.250000</td>\n",
              "      <td>182.385000</td>\n",
              "    </tr>\n",
              "    <tr>\n",
              "      <th>2016-05-01</th>\n",
              "      <td>118.37</td>\n",
              "      <td>156.393333</td>\n",
              "      <td>135.911667</td>\n",
              "      <td>146.802500</td>\n",
              "    </tr>\n",
              "    <tr>\n",
              "      <th>2016-06-01</th>\n",
              "      <td>77.81</td>\n",
              "      <td>117.813333</td>\n",
              "      <td>116.900000</td>\n",
              "      <td>132.586250</td>\n",
              "    </tr>\n",
              "    <tr>\n",
              "      <th>2016-07-01</th>\n",
              "      <td>86.67</td>\n",
              "      <td>102.466667</td>\n",
              "      <td>96.898333</td>\n",
              "      <td>105.198125</td>\n",
              "    </tr>\n",
              "    <tr>\n",
              "      <th>2016-08-01</th>\n",
              "      <td>122.40</td>\n",
              "      <td>94.283333</td>\n",
              "      <td>89.000000</td>\n",
              "      <td>95.934063</td>\n",
              "    </tr>\n",
              "    <tr>\n",
              "      <th>2016-09-01</th>\n",
              "      <td>223.62</td>\n",
              "      <td>95.626667</td>\n",
              "      <td>103.058333</td>\n",
              "      <td>109.167031</td>\n",
              "    </tr>\n",
              "    <tr>\n",
              "      <th>2016-10-01</th>\n",
              "      <td>152.54</td>\n",
              "      <td>144.230000</td>\n",
              "      <td>167.055000</td>\n",
              "      <td>166.393516</td>\n",
              "    </tr>\n",
              "    <tr>\n",
              "      <th>2016-11-01</th>\n",
              "      <td>150.54</td>\n",
              "      <td>166.186667</td>\n",
              "      <td>171.210000</td>\n",
              "      <td>159.466758</td>\n",
              "    </tr>\n",
              "    <tr>\n",
              "      <th>2016-12-01</th>\n",
              "      <td>244.37</td>\n",
              "      <td>175.566667</td>\n",
              "      <td>163.386667</td>\n",
              "      <td>155.003379</td>\n",
              "    </tr>\n",
              "    <tr>\n",
              "      <th>2017-01-01</th>\n",
              "      <td>263.64</td>\n",
              "      <td>182.483333</td>\n",
              "      <td>197.788333</td>\n",
              "      <td>199.686689</td>\n",
              "    </tr>\n",
              "    <tr>\n",
              "      <th>2017-02-01</th>\n",
              "      <td>214.32</td>\n",
              "      <td>219.516667</td>\n",
              "      <td>238.366667</td>\n",
              "      <td>231.663345</td>\n",
              "    </tr>\n",
              "    <tr>\n",
              "      <th>2017-03-01</th>\n",
              "      <td>151.54</td>\n",
              "      <td>240.776667</td>\n",
              "      <td>235.768333</td>\n",
              "      <td>222.991672</td>\n",
              "    </tr>\n",
              "    <tr>\n",
              "      <th>2017-04-01</th>\n",
              "      <td>118.79</td>\n",
              "      <td>209.833333</td>\n",
              "      <td>191.150000</td>\n",
              "      <td>187.265836</td>\n",
              "    </tr>\n",
              "    <tr>\n",
              "      <th>2017-05-01</th>\n",
              "      <td>153.18</td>\n",
              "      <td>161.550000</td>\n",
              "      <td>145.628333</td>\n",
              "      <td>153.027918</td>\n",
              "    </tr>\n",
              "    <tr>\n",
              "      <th>2017-06-01</th>\n",
              "      <td>212.08</td>\n",
              "      <td>141.170000</td>\n",
              "      <td>141.443333</td>\n",
              "      <td>153.103959</td>\n",
              "    </tr>\n",
              "    <tr>\n",
              "      <th>2017-07-01</th>\n",
              "      <td>281.19</td>\n",
              "      <td>161.350000</td>\n",
              "      <td>176.898333</td>\n",
              "      <td>182.591980</td>\n",
              "    </tr>\n",
              "    <tr>\n",
              "      <th>2017-08-01</th>\n",
              "      <td>237.97</td>\n",
              "      <td>215.483333</td>\n",
              "      <td>236.818333</td>\n",
              "      <td>231.890990</td>\n",
              "    </tr>\n",
              "    <tr>\n",
              "      <th>2017-09-01</th>\n",
              "      <td>284.30</td>\n",
              "      <td>243.746667</td>\n",
              "      <td>248.061667</td>\n",
              "      <td>234.930495</td>\n",
              "    </tr>\n",
              "    <tr>\n",
              "      <th>2017-10-01</th>\n",
              "      <td>172.69</td>\n",
              "      <td>267.820000</td>\n",
              "      <td>268.338333</td>\n",
              "      <td>259.615247</td>\n",
              "    </tr>\n",
              "    <tr>\n",
              "      <th>2017-11-01</th>\n",
              "      <td>111.51</td>\n",
              "      <td>231.653333</td>\n",
              "      <td>220.773333</td>\n",
              "      <td>216.152624</td>\n",
              "    </tr>\n",
              "    <tr>\n",
              "      <th>2017-12-01</th>\n",
              "      <td>151.42</td>\n",
              "      <td>189.500000</td>\n",
              "      <td>160.701667</td>\n",
              "      <td>163.831312</td>\n",
              "    </tr>\n",
              "    <tr>\n",
              "      <th>2018-01-01</th>\n",
              "      <td>267.32</td>\n",
              "      <td>145.206667</td>\n",
              "      <td>141.661667</td>\n",
              "      <td>157.625656</td>\n",
              "    </tr>\n",
              "    <tr>\n",
              "      <th>2018-02-01</th>\n",
              "      <td>201.35</td>\n",
              "      <td>176.750000</td>\n",
              "      <td>202.718333</td>\n",
              "      <td>212.472828</td>\n",
              "    </tr>\n",
              "    <tr>\n",
              "      <th>2018-03-01</th>\n",
              "      <td>202.91</td>\n",
              "      <td>206.696667</td>\n",
              "      <td>215.018333</td>\n",
              "      <td>206.911414</td>\n",
              "    </tr>\n",
              "    <tr>\n",
              "      <th>2018-04-01</th>\n",
              "      <td>150.86</td>\n",
              "      <td>223.860000</td>\n",
              "      <td>213.125000</td>\n",
              "      <td>204.910707</td>\n",
              "    </tr>\n",
              "    <tr>\n",
              "      <th>2018-05-01</th>\n",
              "      <td>163.07</td>\n",
              "      <td>185.040000</td>\n",
              "      <td>176.625000</td>\n",
              "      <td>177.885353</td>\n",
              "    </tr>\n",
              "    <tr>\n",
              "      <th>2018-06-01</th>\n",
              "      <td>219.76</td>\n",
              "      <td>172.280000</td>\n",
              "      <td>165.640000</td>\n",
              "      <td>170.477677</td>\n",
              "    </tr>\n",
              "    <tr>\n",
              "      <th>2018-07-01</th>\n",
              "      <td>283.98</td>\n",
              "      <td>177.896667</td>\n",
              "      <td>189.380000</td>\n",
              "      <td>195.118838</td>\n",
              "    </tr>\n",
              "    <tr>\n",
              "      <th>2018-08-01</th>\n",
              "      <td>290.15</td>\n",
              "      <td>222.270000</td>\n",
              "      <td>242.421667</td>\n",
              "      <td>239.549419</td>\n",
              "    </tr>\n",
              "    <tr>\n",
              "      <th>2018-09-01</th>\n",
              "      <td>257.96</td>\n",
              "      <td>264.630000</td>\n",
              "      <td>276.361667</td>\n",
              "      <td>264.849710</td>\n",
              "    </tr>\n",
              "    <tr>\n",
              "      <th>2018-10-01</th>\n",
              "      <td>327.19</td>\n",
              "      <td>277.363333</td>\n",
              "      <td>273.026667</td>\n",
              "      <td>261.404855</td>\n",
              "    </tr>\n",
              "    <tr>\n",
              "      <th>2018-11-01</th>\n",
              "      <td>193.49</td>\n",
              "      <td>291.766667</td>\n",
              "      <td>297.940000</td>\n",
              "      <td>294.297427</td>\n",
              "    </tr>\n",
              "    <tr>\n",
              "      <th>2018-12-01</th>\n",
              "      <td>152.34</td>\n",
              "      <td>259.546667</td>\n",
              "      <td>248.801667</td>\n",
              "      <td>243.893714</td>\n",
              "    </tr>\n",
              "  </tbody>\n",
              "</table>\n",
              "</div>"
            ],
            "text/plain": [
              "            Billed_amount  ma_window_3  wma_rolling_window_3      EWM(3)\n",
              "Bill_Date                                                               \n",
              "2016-01-01         247.73          NaN                   NaN         NaN\n",
              "2016-02-01         234.11          NaN                   NaN  247.730000\n",
              "2016-03-01         123.85          NaN                   NaN  240.920000\n",
              "2016-04-01         111.22   201.896667            181.250000  182.385000\n",
              "2016-05-01         118.37   156.393333            135.911667  146.802500\n",
              "2016-06-01          77.81   117.813333            116.900000  132.586250\n",
              "2016-07-01          86.67   102.466667             96.898333  105.198125\n",
              "2016-08-01         122.40    94.283333             89.000000   95.934063\n",
              "2016-09-01         223.62    95.626667            103.058333  109.167031\n",
              "2016-10-01         152.54   144.230000            167.055000  166.393516\n",
              "2016-11-01         150.54   166.186667            171.210000  159.466758\n",
              "2016-12-01         244.37   175.566667            163.386667  155.003379\n",
              "2017-01-01         263.64   182.483333            197.788333  199.686689\n",
              "2017-02-01         214.32   219.516667            238.366667  231.663345\n",
              "2017-03-01         151.54   240.776667            235.768333  222.991672\n",
              "2017-04-01         118.79   209.833333            191.150000  187.265836\n",
              "2017-05-01         153.18   161.550000            145.628333  153.027918\n",
              "2017-06-01         212.08   141.170000            141.443333  153.103959\n",
              "2017-07-01         281.19   161.350000            176.898333  182.591980\n",
              "2017-08-01         237.97   215.483333            236.818333  231.890990\n",
              "2017-09-01         284.30   243.746667            248.061667  234.930495\n",
              "2017-10-01         172.69   267.820000            268.338333  259.615247\n",
              "2017-11-01         111.51   231.653333            220.773333  216.152624\n",
              "2017-12-01         151.42   189.500000            160.701667  163.831312\n",
              "2018-01-01         267.32   145.206667            141.661667  157.625656\n",
              "2018-02-01         201.35   176.750000            202.718333  212.472828\n",
              "2018-03-01         202.91   206.696667            215.018333  206.911414\n",
              "2018-04-01         150.86   223.860000            213.125000  204.910707\n",
              "2018-05-01         163.07   185.040000            176.625000  177.885353\n",
              "2018-06-01         219.76   172.280000            165.640000  170.477677\n",
              "2018-07-01         283.98   177.896667            189.380000  195.118838\n",
              "2018-08-01         290.15   222.270000            242.421667  239.549419\n",
              "2018-09-01         257.96   264.630000            276.361667  264.849710\n",
              "2018-10-01         327.19   277.363333            273.026667  261.404855\n",
              "2018-11-01         193.49   291.766667            297.940000  294.297427\n",
              "2018-12-01         152.34   259.546667            248.801667  243.893714"
            ]
          },
          "metadata": {
            "tags": []
          },
          "execution_count": 200
        }
      ]
    },
    {
      "cell_type": "code",
      "metadata": {
        "id": "znozJ8yT5D5y",
        "outputId": "15a22687-38b5-48ce-9c4a-8c2d4092be04",
        "colab": {
          "base_uri": "https://localhost:8080/",
          "height": 292
        }
      },
      "source": [
        "df2_2018.plot();"
      ],
      "execution_count": 201,
      "outputs": [
        {
          "output_type": "display_data",
          "data": {
            "image/png": "[encoded data removed]",
            "text/plain": [
              "<Figure size 432x288 with 1 Axes>"
            ]
          },
          "metadata": {
            "tags": [],
            "needs_background": "light"
          }
        }
      ]
    },
    {
      "cell_type": "code",
      "metadata": {
        "id": "B-Rg9edj5ooB",
        "outputId": "61d231b6-d5ad-4c8d-a212-31ff249aa271",
        "colab": {
          "base_uri": "https://localhost:8080/",
          "height": 663
        }
      },
      "source": [
        "#exponential smoothing\n",
        "df2_2018['Billed_amount'].ewm(alpha=0.7, adjust=False, min_periods=3).mean()"
      ],
      "execution_count": 202,
      "outputs": [
        {
          "output_type": "execute_result",
          "data": {
            "text/plain": [
              "Bill_Date\n",
              "2016-01-01           NaN\n",
              "2016-02-01           NaN\n",
              "2016-03-01    158.153800\n",
              "2016-04-01    125.300140\n",
              "2016-05-01    120.449042\n",
              "2016-06-01     90.601713\n",
              "2016-07-01     87.849514\n",
              "2016-08-01    112.034854\n",
              "2016-09-01    190.144456\n",
              "2016-10-01    163.821337\n",
              "2016-11-01    154.524401\n",
              "2016-12-01    217.416320\n",
              "2017-01-01    249.772896\n",
              "2017-02-01    224.955869\n",
              "2017-03-01    173.564761\n",
              "2017-04-01    135.222428\n",
              "2017-05-01    147.792728\n",
              "2017-06-01    192.793819\n",
              "2017-07-01    254.671146\n",
              "2017-08-01    242.980344\n",
              "2017-09-01    271.904103\n",
              "2017-10-01    202.454231\n",
              "2017-11-01    138.793269\n",
              "2017-12-01    147.631981\n",
              "2018-01-01    231.413594\n",
              "2018-02-01    210.369078\n",
              "2018-03-01    205.147723\n",
              "2018-04-01    167.146317\n",
              "2018-05-01    164.292895\n",
              "2018-06-01    203.119869\n",
              "2018-07-01    259.721961\n",
              "2018-08-01    281.021588\n",
              "2018-09-01    264.878476\n",
              "2018-10-01    308.496543\n",
              "2018-11-01    227.991963\n",
              "2018-12-01    175.035589\n",
              "Name: Billed_amount, dtype: float64"
            ]
          },
          "metadata": {
            "tags": []
          },
          "execution_count": 202
        }
      ]
    },
    {
      "cell_type": "code",
      "metadata": {
        "id": "fUt-W1S96SDq"
      },
      "source": [
        "df2_2018['ESM(3)'] = df2_2018['Billed_amount'].ewm(alpha=0.5, adjust=False, min_periods=3).mean().shift(1)"
      ],
      "execution_count": 203,
      "outputs": []
    },
    {
      "cell_type": "code",
      "metadata": {
        "id": "vbjRqUXO6apy",
        "outputId": "8a0d3995-347a-454d-ebaf-50542f0d674e",
        "colab": {
          "base_uri": "https://localhost:8080/",
          "height": 1000
        }
      },
      "source": [
        "df2_2018"
      ],
      "execution_count": 204,
      "outputs": [
        {
          "output_type": "execute_result",
          "data": {
            "text/html": [
              "<div>\n",
              "<style scoped>\n",
              "    .dataframe tbody tr th:only-of-type {\n",
              "        vertical-align: middle;\n",
              "    }\n",
              "\n",
              "    .dataframe tbody tr th {\n",
              "        vertical-align: top;\n",
              "    }\n",
              "\n",
              "    .dataframe thead th {\n",
              "        text-align: right;\n",
              "    }\n",
              "</style>\n",
              "<table border=\"1\" class=\"dataframe\">\n",
              "  <thead>\n",
              "    <tr style=\"text-align: right;\">\n",
              "      <th></th>\n",
              "      <th>Billed_amount</th>\n",
              "      <th>ma_window_3</th>\n",
              "      <th>wma_rolling_window_3</th>\n",
              "      <th>EWM(3)</th>\n",
              "      <th>ESM(3)</th>\n",
              "    </tr>\n",
              "    <tr>\n",
              "      <th>Bill_Date</th>\n",
              "      <th></th>\n",
              "      <th></th>\n",
              "      <th></th>\n",
              "      <th></th>\n",
              "      <th></th>\n",
              "    </tr>\n",
              "  </thead>\n",
              "  <tbody>\n",
              "    <tr>\n",
              "      <th>2016-01-01</th>\n",
              "      <td>247.73</td>\n",
              "      <td>NaN</td>\n",
              "      <td>NaN</td>\n",
              "      <td>NaN</td>\n",
              "      <td>NaN</td>\n",
              "    </tr>\n",
              "    <tr>\n",
              "      <th>2016-02-01</th>\n",
              "      <td>234.11</td>\n",
              "      <td>NaN</td>\n",
              "      <td>NaN</td>\n",
              "      <td>247.730000</td>\n",
              "      <td>NaN</td>\n",
              "    </tr>\n",
              "    <tr>\n",
              "      <th>2016-03-01</th>\n",
              "      <td>123.85</td>\n",
              "      <td>NaN</td>\n",
              "      <td>NaN</td>\n",
              "      <td>240.920000</td>\n",
              "      <td>NaN</td>\n",
              "    </tr>\n",
              "    <tr>\n",
              "      <th>2016-04-01</th>\n",
              "      <td>111.22</td>\n",
              "      <td>201.896667</td>\n",
              "      <td>181.250000</td>\n",
              "      <td>182.385000</td>\n",
              "      <td>182.385000</td>\n",
              "    </tr>\n",
              "    <tr>\n",
              "      <th>2016-05-01</th>\n",
              "      <td>118.37</td>\n",
              "      <td>156.393333</td>\n",
              "      <td>135.911667</td>\n",
              "      <td>146.802500</td>\n",
              "      <td>146.802500</td>\n",
              "    </tr>\n",
              "    <tr>\n",
              "      <th>2016-06-01</th>\n",
              "      <td>77.81</td>\n",
              "      <td>117.813333</td>\n",
              "      <td>116.900000</td>\n",
              "      <td>132.586250</td>\n",
              "      <td>132.586250</td>\n",
              "    </tr>\n",
              "    <tr>\n",
              "      <th>2016-07-01</th>\n",
              "      <td>86.67</td>\n",
              "      <td>102.466667</td>\n",
              "      <td>96.898333</td>\n",
              "      <td>105.198125</td>\n",
              "      <td>105.198125</td>\n",
              "    </tr>\n",
              "    <tr>\n",
              "      <th>2016-08-01</th>\n",
              "      <td>122.40</td>\n",
              "      <td>94.283333</td>\n",
              "      <td>89.000000</td>\n",
              "      <td>95.934063</td>\n",
              "      <td>95.934063</td>\n",
              "    </tr>\n",
              "    <tr>\n",
              "      <th>2016-09-01</th>\n",
              "      <td>223.62</td>\n",
              "      <td>95.626667</td>\n",
              "      <td>103.058333</td>\n",
              "      <td>109.167031</td>\n",
              "      <td>109.167031</td>\n",
              "    </tr>\n",
              "    <tr>\n",
              "      <th>2016-10-01</th>\n",
              "      <td>152.54</td>\n",
              "      <td>144.230000</td>\n",
              "      <td>167.055000</td>\n",
              "      <td>166.393516</td>\n",
              "      <td>166.393516</td>\n",
              "    </tr>\n",
              "    <tr>\n",
              "      <th>2016-11-01</th>\n",
              "      <td>150.54</td>\n",
              "      <td>166.186667</td>\n",
              "      <td>171.210000</td>\n",
              "      <td>159.466758</td>\n",
              "      <td>159.466758</td>\n",
              "    </tr>\n",
              "    <tr>\n",
              "      <th>2016-12-01</th>\n",
              "      <td>244.37</td>\n",
              "      <td>175.566667</td>\n",
              "      <td>163.386667</td>\n",
              "      <td>155.003379</td>\n",
              "      <td>155.003379</td>\n",
              "    </tr>\n",
              "    <tr>\n",
              "      <th>2017-01-01</th>\n",
              "      <td>263.64</td>\n",
              "      <td>182.483333</td>\n",
              "      <td>197.788333</td>\n",
              "      <td>199.686689</td>\n",
              "      <td>199.686689</td>\n",
              "    </tr>\n",
              "    <tr>\n",
              "      <th>2017-02-01</th>\n",
              "      <td>214.32</td>\n",
              "      <td>219.516667</td>\n",
              "      <td>238.366667</td>\n",
              "      <td>231.663345</td>\n",
              "      <td>231.663345</td>\n",
              "    </tr>\n",
              "    <tr>\n",
              "      <th>2017-03-01</th>\n",
              "      <td>151.54</td>\n",
              "      <td>240.776667</td>\n",
              "      <td>235.768333</td>\n",
              "      <td>222.991672</td>\n",
              "      <td>222.991672</td>\n",
              "    </tr>\n",
              "    <tr>\n",
              "      <th>2017-04-01</th>\n",
              "      <td>118.79</td>\n",
              "      <td>209.833333</td>\n",
              "      <td>191.150000</td>\n",
              "      <td>187.265836</td>\n",
              "      <td>187.265836</td>\n",
              "    </tr>\n",
              "    <tr>\n",
              "      <th>2017-05-01</th>\n",
              "      <td>153.18</td>\n",
              "      <td>161.550000</td>\n",
              "      <td>145.628333</td>\n",
              "      <td>153.027918</td>\n",
              "      <td>153.027918</td>\n",
              "    </tr>\n",
              "    <tr>\n",
              "      <th>2017-06-01</th>\n",
              "      <td>212.08</td>\n",
              "      <td>141.170000</td>\n",
              "      <td>141.443333</td>\n",
              "      <td>153.103959</td>\n",
              "      <td>153.103959</td>\n",
              "    </tr>\n",
              "    <tr>\n",
              "      <th>2017-07-01</th>\n",
              "      <td>281.19</td>\n",
              "      <td>161.350000</td>\n",
              "      <td>176.898333</td>\n",
              "      <td>182.591980</td>\n",
              "      <td>182.591980</td>\n",
              "    </tr>\n",
              "    <tr>\n",
              "      <th>2017-08-01</th>\n",
              "      <td>237.97</td>\n",
              "      <td>215.483333</td>\n",
              "      <td>236.818333</td>\n",
              "      <td>231.890990</td>\n",
              "      <td>231.890990</td>\n",
              "    </tr>\n",
              "    <tr>\n",
              "      <th>2017-09-01</th>\n",
              "      <td>284.30</td>\n",
              "      <td>243.746667</td>\n",
              "      <td>248.061667</td>\n",
              "      <td>234.930495</td>\n",
              "      <td>234.930495</td>\n",
              "    </tr>\n",
              "    <tr>\n",
              "      <th>2017-10-01</th>\n",
              "      <td>172.69</td>\n",
              "      <td>267.820000</td>\n",
              "      <td>268.338333</td>\n",
              "      <td>259.615247</td>\n",
              "      <td>259.615247</td>\n",
              "    </tr>\n",
              "    <tr>\n",
              "      <th>2017-11-01</th>\n",
              "      <td>111.51</td>\n",
              "      <td>231.653333</td>\n",
              "      <td>220.773333</td>\n",
              "      <td>216.152624</td>\n",
              "      <td>216.152624</td>\n",
              "    </tr>\n",
              "    <tr>\n",
              "      <th>2017-12-01</th>\n",
              "      <td>151.42</td>\n",
              "      <td>189.500000</td>\n",
              "      <td>160.701667</td>\n",
              "      <td>163.831312</td>\n",
              "      <td>163.831312</td>\n",
              "    </tr>\n",
              "    <tr>\n",
              "      <th>2018-01-01</th>\n",
              "      <td>267.32</td>\n",
              "      <td>145.206667</td>\n",
              "      <td>141.661667</td>\n",
              "      <td>157.625656</td>\n",
              "      <td>157.625656</td>\n",
              "    </tr>\n",
              "    <tr>\n",
              "      <th>2018-02-01</th>\n",
              "      <td>201.35</td>\n",
              "      <td>176.750000</td>\n",
              "      <td>202.718333</td>\n",
              "      <td>212.472828</td>\n",
              "      <td>212.472828</td>\n",
              "    </tr>\n",
              "    <tr>\n",
              "      <th>2018-03-01</th>\n",
              "      <td>202.91</td>\n",
              "      <td>206.696667</td>\n",
              "      <td>215.018333</td>\n",
              "      <td>206.911414</td>\n",
              "      <td>206.911414</td>\n",
              "    </tr>\n",
              "    <tr>\n",
              "      <th>2018-04-01</th>\n",
              "      <td>150.86</td>\n",
              "      <td>223.860000</td>\n",
              "      <td>213.125000</td>\n",
              "      <td>204.910707</td>\n",
              "      <td>204.910707</td>\n",
              "    </tr>\n",
              "    <tr>\n",
              "      <th>2018-05-01</th>\n",
              "      <td>163.07</td>\n",
              "      <td>185.040000</td>\n",
              "      <td>176.625000</td>\n",
              "      <td>177.885353</td>\n",
              "      <td>177.885353</td>\n",
              "    </tr>\n",
              "    <tr>\n",
              "      <th>2018-06-01</th>\n",
              "      <td>219.76</td>\n",
              "      <td>172.280000</td>\n",
              "      <td>165.640000</td>\n",
              "      <td>170.477677</td>\n",
              "      <td>170.477677</td>\n",
              "    </tr>\n",
              "    <tr>\n",
              "      <th>2018-07-01</th>\n",
              "      <td>283.98</td>\n",
              "      <td>177.896667</td>\n",
              "      <td>189.380000</td>\n",
              "      <td>195.118838</td>\n",
              "      <td>195.118838</td>\n",
              "    </tr>\n",
              "    <tr>\n",
              "      <th>2018-08-01</th>\n",
              "      <td>290.15</td>\n",
              "      <td>222.270000</td>\n",
              "      <td>242.421667</td>\n",
              "      <td>239.549419</td>\n",
              "      <td>239.549419</td>\n",
              "    </tr>\n",
              "    <tr>\n",
              "      <th>2018-09-01</th>\n",
              "      <td>257.96</td>\n",
              "      <td>264.630000</td>\n",
              "      <td>276.361667</td>\n",
              "      <td>264.849710</td>\n",
              "      <td>264.849710</td>\n",
              "    </tr>\n",
              "    <tr>\n",
              "      <th>2018-10-01</th>\n",
              "      <td>327.19</td>\n",
              "      <td>277.363333</td>\n",
              "      <td>273.026667</td>\n",
              "      <td>261.404855</td>\n",
              "      <td>261.404855</td>\n",
              "    </tr>\n",
              "    <tr>\n",
              "      <th>2018-11-01</th>\n",
              "      <td>193.49</td>\n",
              "      <td>291.766667</td>\n",
              "      <td>297.940000</td>\n",
              "      <td>294.297427</td>\n",
              "      <td>294.297427</td>\n",
              "    </tr>\n",
              "    <tr>\n",
              "      <th>2018-12-01</th>\n",
              "      <td>152.34</td>\n",
              "      <td>259.546667</td>\n",
              "      <td>248.801667</td>\n",
              "      <td>243.893714</td>\n",
              "      <td>243.893714</td>\n",
              "    </tr>\n",
              "  </tbody>\n",
              "</table>\n",
              "</div>"
            ],
            "text/plain": [
              "            Billed_amount  ma_window_3  ...      EWM(3)      ESM(3)\n",
              "Bill_Date                               ...                        \n",
              "2016-01-01         247.73          NaN  ...         NaN         NaN\n",
              "2016-02-01         234.11          NaN  ...  247.730000         NaN\n",
              "2016-03-01         123.85          NaN  ...  240.920000         NaN\n",
              "2016-04-01         111.22   201.896667  ...  182.385000  182.385000\n",
              "2016-05-01         118.37   156.393333  ...  146.802500  146.802500\n",
              "2016-06-01          77.81   117.813333  ...  132.586250  132.586250\n",
              "2016-07-01          86.67   102.466667  ...  105.198125  105.198125\n",
              "2016-08-01         122.40    94.283333  ...   95.934063   95.934063\n",
              "2016-09-01         223.62    95.626667  ...  109.167031  109.167031\n",
              "2016-10-01         152.54   144.230000  ...  166.393516  166.393516\n",
              "2016-11-01         150.54   166.186667  ...  159.466758  159.466758\n",
              "2016-12-01         244.37   175.566667  ...  155.003379  155.003379\n",
              "2017-01-01         263.64   182.483333  ...  199.686689  199.686689\n",
              "2017-02-01         214.32   219.516667  ...  231.663345  231.663345\n",
              "2017-03-01         151.54   240.776667  ...  222.991672  222.991672\n",
              "2017-04-01         118.79   209.833333  ...  187.265836  187.265836\n",
              "2017-05-01         153.18   161.550000  ...  153.027918  153.027918\n",
              "2017-06-01         212.08   141.170000  ...  153.103959  153.103959\n",
              "2017-07-01         281.19   161.350000  ...  182.591980  182.591980\n",
              "2017-08-01         237.97   215.483333  ...  231.890990  231.890990\n",
              "2017-09-01         284.30   243.746667  ...  234.930495  234.930495\n",
              "2017-10-01         172.69   267.820000  ...  259.615247  259.615247\n",
              "2017-11-01         111.51   231.653333  ...  216.152624  216.152624\n",
              "2017-12-01         151.42   189.500000  ...  163.831312  163.831312\n",
              "2018-01-01         267.32   145.206667  ...  157.625656  157.625656\n",
              "2018-02-01         201.35   176.750000  ...  212.472828  212.472828\n",
              "2018-03-01         202.91   206.696667  ...  206.911414  206.911414\n",
              "2018-04-01         150.86   223.860000  ...  204.910707  204.910707\n",
              "2018-05-01         163.07   185.040000  ...  177.885353  177.885353\n",
              "2018-06-01         219.76   172.280000  ...  170.477677  170.477677\n",
              "2018-07-01         283.98   177.896667  ...  195.118838  195.118838\n",
              "2018-08-01         290.15   222.270000  ...  239.549419  239.549419\n",
              "2018-09-01         257.96   264.630000  ...  264.849710  264.849710\n",
              "2018-10-01         327.19   277.363333  ...  261.404855  261.404855\n",
              "2018-11-01         193.49   291.766667  ...  294.297427  294.297427\n",
              "2018-12-01         152.34   259.546667  ...  243.893714  243.893714\n",
              "\n",
              "[36 rows x 5 columns]"
            ]
          },
          "metadata": {
            "tags": []
          },
          "execution_count": 204
        }
      ]
    },
    {
      "cell_type": "code",
      "metadata": {
        "id": "xYMVr0a36lAy",
        "outputId": "64d947d2-0670-4d00-d736-759c03ec954a",
        "colab": {
          "base_uri": "https://localhost:8080/",
          "height": 292
        }
      },
      "source": [
        "df2_2018[['Billed_amount','ESM(3)']].plot();"
      ],
      "execution_count": 205,
      "outputs": [
        {
          "output_type": "display_data",
          "data": {
            "image/png": "[encoded data removed]",
            "text/plain": [
              "<Figure size 432x288 with 1 Axes>"
            ]
          },
          "metadata": {
            "tags": [],
            "needs_background": "light"
          }
        }
      ]
    },
    {
      "cell_type": "code",
      "metadata": {
        "id": "jmOegVta63FM",
        "outputId": "febfcef8-eed4-4817-d767-f76da6c140b2",
        "colab": {
          "base_uri": "https://localhost:8080/",
          "height": 292
        }
      },
      "source": [
        "df2_2018.plot();"
      ],
      "execution_count": 206,
      "outputs": [
        {
          "output_type": "display_data",
          "data": {
            "image/png": "[encoded data removed]",
            "text/plain": [
              "<Figure size 432x288 with 1 Axes>"
            ]
          },
          "metadata": {
            "tags": [],
            "needs_background": "light"
          }
        }
      ]
    },
    {
      "cell_type": "code",
      "metadata": {
        "id": "FtMM5yx566_7",
        "outputId": "53386451-ebcd-4dfe-bc1c-b6b60e91ca90",
        "colab": {
          "base_uri": "https://localhost:8080/",
          "height": 34
        }
      },
      "source": [
        "#RMSE values to evaluate\n",
        "\n",
        "(((df2_2018['Billed_amount']-df2_2018['ma_window_3']))**2).mean()**0.5"
      ],
      "execution_count": 208,
      "outputs": [
        {
          "output_type": "execute_result",
          "data": {
            "text/plain": [
              "70.98561687433802"
            ]
          },
          "metadata": {
            "tags": []
          },
          "execution_count": 208
        }
      ]
    },
    {
      "cell_type": "code",
      "metadata": {
        "id": "xpDeKH8r81uE",
        "outputId": "b139502f-68d5-462c-e529-bb363743c696",
        "colab": {
          "base_uri": "https://localhost:8080/",
          "height": 34
        }
      },
      "source": [
        "(((df2_2018['Billed_amount']-df2_2018['wma_rolling_window_3']))**2).mean()**0.5"
      ],
      "execution_count": 209,
      "outputs": [
        {
          "output_type": "execute_result",
          "data": {
            "text/plain": [
              "65.82572602256133"
            ]
          },
          "metadata": {
            "tags": []
          },
          "execution_count": 209
        }
      ]
    },
    {
      "cell_type": "code",
      "metadata": {
        "id": "KpfCU5AT86NA",
        "outputId": "33b294a7-9ccd-4f33-c054-732ec67e76ad",
        "colab": {
          "base_uri": "https://localhost:8080/",
          "height": 34
        }
      },
      "source": [
        "(((df2_2018['Billed_amount']-df2_2018['EWM(3)']))**2).mean()**0.5"
      ],
      "execution_count": 210,
      "outputs": [
        {
          "output_type": "execute_result",
          "data": {
            "text/plain": [
              "64.32131239414655"
            ]
          },
          "metadata": {
            "tags": []
          },
          "execution_count": 210
        }
      ]
    },
    {
      "cell_type": "code",
      "metadata": {
        "id": "xnNwKjtv8-r9",
        "outputId": "5fc95ebe-c866-4912-f377-710db3985eb0",
        "colab": {
          "base_uri": "https://localhost:8080/",
          "height": 34
        }
      },
      "source": [
        "(((df2_2018['Billed_amount']-df2_2018['ESM(3)']))**2).mean()**0.5"
      ],
      "execution_count": 211,
      "outputs": [
        {
          "output_type": "execute_result",
          "data": {
            "text/plain": [
              "62.98441454251434"
            ]
          },
          "metadata": {
            "tags": []
          },
          "execution_count": 211
        }
      ]
    }
  ]
}